{
 "cells": [
  {
   "cell_type": "markdown",
   "metadata": {
    "id": "pcmU2vr5dZ5j"
   },
   "source": [
    "# Default of Credit Card Clients"
   ]
  },
  {
   "cell_type": "markdown",
   "metadata": {
    "id": "G6Kwt9dXdZ5o"
   },
   "source": [
    "## Table of Contents"
   ]
  },
  {
   "cell_type": "markdown",
   "metadata": {
    "id": "tjlVZmzudZ5o"
   },
   "source": [
    "- Introduction\n",
    "- Data Processing\n",
    "- Feature Engineering\n",
    "- Model Training\n",
    "- Model Evaluation"
   ]
  },
  {
   "cell_type": "markdown",
   "metadata": {
    "id": "fl8m3ovKdZ5o"
   },
   "source": [
    "### Introduction"
   ]
  },
  {
   "cell_type": "markdown",
   "metadata": {
    "id": "5oX8ffvydZ5p"
   },
   "source": [
    "In this notebook, I will clean and analyze the given data and come up with a model that predicts whether a client will default the payment or not."
   ]
  },
  {
   "cell_type": "markdown",
   "metadata": {
    "id": "dja9VUjedZ5p"
   },
   "source": [
    "### Data Processing"
   ]
  },
  {
   "cell_type": "code",
   "execution_count": 1,
   "metadata": {
    "id": "XZclXeGsdZ5p"
   },
   "outputs": [],
   "source": [
    "# Import necessary packages\n",
    "import numpy as np\n",
    "import pandas as pd\n",
    "import matplotlib.pyplot as plt\n",
    "import seaborn as sns\n",
    "sns.set()\n",
    "%matplotlib inline"
   ]
  },
  {
   "cell_type": "code",
   "execution_count": 2,
   "metadata": {
    "id": "U02fD8QidZ5q"
   },
   "outputs": [],
   "source": [
    "# Read the data into a data frame\n",
    "df = pd.read_excel('default of credit card clients.xls')"
   ]
  },
  {
   "cell_type": "code",
   "execution_count": 3,
   "metadata": {
    "colab": {
     "base_uri": "https://localhost:8080/",
     "height": 282
    },
    "id": "NJGdCIkKdZ5q",
    "outputId": "84bbc1a0-3ce6-45ec-a1c9-0f44a5045fe0",
    "scrolled": true
   },
   "outputs": [
    {
     "data": {
      "text/html": [
       "<div>\n",
       "<style scoped>\n",
       "    .dataframe tbody tr th:only-of-type {\n",
       "        vertical-align: middle;\n",
       "    }\n",
       "\n",
       "    .dataframe tbody tr th {\n",
       "        vertical-align: top;\n",
       "    }\n",
       "\n",
       "    .dataframe thead th {\n",
       "        text-align: right;\n",
       "    }\n",
       "</style>\n",
       "<table border=\"1\" class=\"dataframe\">\n",
       "  <thead>\n",
       "    <tr style=\"text-align: right;\">\n",
       "      <th></th>\n",
       "      <th>Unnamed: 0</th>\n",
       "      <th>X1</th>\n",
       "      <th>X2</th>\n",
       "      <th>X3</th>\n",
       "      <th>X4</th>\n",
       "      <th>X5</th>\n",
       "      <th>X6</th>\n",
       "      <th>X7</th>\n",
       "      <th>X8</th>\n",
       "      <th>X9</th>\n",
       "      <th>...</th>\n",
       "      <th>X15</th>\n",
       "      <th>X16</th>\n",
       "      <th>X17</th>\n",
       "      <th>X18</th>\n",
       "      <th>X19</th>\n",
       "      <th>X20</th>\n",
       "      <th>X21</th>\n",
       "      <th>X22</th>\n",
       "      <th>X23</th>\n",
       "      <th>Y</th>\n",
       "    </tr>\n",
       "  </thead>\n",
       "  <tbody>\n",
       "    <tr>\n",
       "      <td>0</td>\n",
       "      <td>ID</td>\n",
       "      <td>LIMIT_BAL</td>\n",
       "      <td>SEX</td>\n",
       "      <td>EDUCATION</td>\n",
       "      <td>MARRIAGE</td>\n",
       "      <td>AGE</td>\n",
       "      <td>PAY_0</td>\n",
       "      <td>PAY_2</td>\n",
       "      <td>PAY_3</td>\n",
       "      <td>PAY_4</td>\n",
       "      <td>...</td>\n",
       "      <td>BILL_AMT4</td>\n",
       "      <td>BILL_AMT5</td>\n",
       "      <td>BILL_AMT6</td>\n",
       "      <td>PAY_AMT1</td>\n",
       "      <td>PAY_AMT2</td>\n",
       "      <td>PAY_AMT3</td>\n",
       "      <td>PAY_AMT4</td>\n",
       "      <td>PAY_AMT5</td>\n",
       "      <td>PAY_AMT6</td>\n",
       "      <td>default payment next month</td>\n",
       "    </tr>\n",
       "    <tr>\n",
       "      <td>1</td>\n",
       "      <td>1</td>\n",
       "      <td>20000</td>\n",
       "      <td>female</td>\n",
       "      <td>university</td>\n",
       "      <td>married</td>\n",
       "      <td>24</td>\n",
       "      <td>2</td>\n",
       "      <td>2</td>\n",
       "      <td>-1</td>\n",
       "      <td>-1</td>\n",
       "      <td>...</td>\n",
       "      <td>0</td>\n",
       "      <td>0</td>\n",
       "      <td>0</td>\n",
       "      <td>0</td>\n",
       "      <td>689</td>\n",
       "      <td>0</td>\n",
       "      <td>0</td>\n",
       "      <td>0</td>\n",
       "      <td>0</td>\n",
       "      <td>1</td>\n",
       "    </tr>\n",
       "    <tr>\n",
       "      <td>2</td>\n",
       "      <td>2</td>\n",
       "      <td>120000</td>\n",
       "      <td>female</td>\n",
       "      <td>university</td>\n",
       "      <td>single</td>\n",
       "      <td>26</td>\n",
       "      <td>-1</td>\n",
       "      <td>2</td>\n",
       "      <td>0</td>\n",
       "      <td>0</td>\n",
       "      <td>...</td>\n",
       "      <td>3272</td>\n",
       "      <td>3455</td>\n",
       "      <td>3261</td>\n",
       "      <td>0</td>\n",
       "      <td>1000</td>\n",
       "      <td>1000</td>\n",
       "      <td>1000</td>\n",
       "      <td>0</td>\n",
       "      <td>2000</td>\n",
       "      <td>1</td>\n",
       "    </tr>\n",
       "    <tr>\n",
       "      <td>3</td>\n",
       "      <td>3</td>\n",
       "      <td>90000</td>\n",
       "      <td>female</td>\n",
       "      <td>university</td>\n",
       "      <td>single</td>\n",
       "      <td>34</td>\n",
       "      <td>0</td>\n",
       "      <td>0</td>\n",
       "      <td>0</td>\n",
       "      <td>0</td>\n",
       "      <td>...</td>\n",
       "      <td>14331</td>\n",
       "      <td>14948</td>\n",
       "      <td>15549</td>\n",
       "      <td>1518</td>\n",
       "      <td>1500</td>\n",
       "      <td>1000</td>\n",
       "      <td>1000</td>\n",
       "      <td>1000</td>\n",
       "      <td>5000</td>\n",
       "      <td>0</td>\n",
       "    </tr>\n",
       "    <tr>\n",
       "      <td>4</td>\n",
       "      <td>4</td>\n",
       "      <td>50000</td>\n",
       "      <td>female</td>\n",
       "      <td>university</td>\n",
       "      <td>married</td>\n",
       "      <td>37</td>\n",
       "      <td>0</td>\n",
       "      <td>0</td>\n",
       "      <td>0</td>\n",
       "      <td>0</td>\n",
       "      <td>...</td>\n",
       "      <td>28314</td>\n",
       "      <td>28959</td>\n",
       "      <td>29547</td>\n",
       "      <td>2000</td>\n",
       "      <td>2019</td>\n",
       "      <td>1200</td>\n",
       "      <td>1100</td>\n",
       "      <td>1069</td>\n",
       "      <td>1000</td>\n",
       "      <td>0</td>\n",
       "    </tr>\n",
       "  </tbody>\n",
       "</table>\n",
       "<p>5 rows × 25 columns</p>\n",
       "</div>"
      ],
      "text/plain": [
       "  Unnamed: 0         X1      X2          X3        X4   X5     X6     X7  \\\n",
       "0         ID  LIMIT_BAL     SEX   EDUCATION  MARRIAGE  AGE  PAY_0  PAY_2   \n",
       "1          1      20000  female  university   married   24      2      2   \n",
       "2          2     120000  female  university    single   26     -1      2   \n",
       "3          3      90000  female  university    single   34      0      0   \n",
       "4          4      50000  female  university   married   37      0      0   \n",
       "\n",
       "      X8     X9  ...        X15        X16        X17       X18       X19  \\\n",
       "0  PAY_3  PAY_4  ...  BILL_AMT4  BILL_AMT5  BILL_AMT6  PAY_AMT1  PAY_AMT2   \n",
       "1     -1     -1  ...          0          0          0         0       689   \n",
       "2      0      0  ...       3272       3455       3261         0      1000   \n",
       "3      0      0  ...      14331      14948      15549      1518      1500   \n",
       "4      0      0  ...      28314      28959      29547      2000      2019   \n",
       "\n",
       "        X20       X21       X22       X23                           Y  \n",
       "0  PAY_AMT3  PAY_AMT4  PAY_AMT5  PAY_AMT6  default payment next month  \n",
       "1         0         0         0         0                           1  \n",
       "2      1000      1000         0      2000                           1  \n",
       "3      1000      1000      1000      5000                           0  \n",
       "4      1200      1100      1069      1000                           0  \n",
       "\n",
       "[5 rows x 25 columns]"
      ]
     },
     "execution_count": 3,
     "metadata": {},
     "output_type": "execute_result"
    }
   ],
   "source": [
    "df.head()"
   ]
  },
  {
   "cell_type": "code",
   "execution_count": 4,
   "metadata": {
    "colab": {
     "base_uri": "https://localhost:8080/"
    },
    "id": "Es1cS17udZ5r",
    "outputId": "5f944241-7994-44b5-c194-23596af97a35"
   },
   "outputs": [
    {
     "data": {
      "text/plain": [
       "(30001, 25)"
      ]
     },
     "execution_count": 4,
     "metadata": {},
     "output_type": "execute_result"
    }
   ],
   "source": [
    "# See what shape the data has\n",
    "df.shape"
   ]
  },
  {
   "cell_type": "code",
   "execution_count": 5,
   "metadata": {
    "colab": {
     "base_uri": "https://localhost:8080/"
    },
    "id": "86llYb62dZ5r",
    "outputId": "7ab3db5d-d290-4a30-c7db-4e41ea2f107f"
   },
   "outputs": [
    {
     "name": "stdout",
     "output_type": "stream",
     "text": [
      "<class 'pandas.core.frame.DataFrame'>\n",
      "RangeIndex: 30001 entries, 0 to 30000\n",
      "Data columns (total 25 columns):\n",
      "Unnamed: 0    30001 non-null object\n",
      "X1            30001 non-null object\n",
      "X2            30001 non-null object\n",
      "X3            29670 non-null object\n",
      "X4            29678 non-null object\n",
      "X5            30001 non-null object\n",
      "X6            30001 non-null object\n",
      "X7            30001 non-null object\n",
      "X8            30001 non-null object\n",
      "X9            30001 non-null object\n",
      "X10           30001 non-null object\n",
      "X11           30001 non-null object\n",
      "X12           30001 non-null object\n",
      "X13           30001 non-null object\n",
      "X14           30001 non-null object\n",
      "X15           30001 non-null object\n",
      "X16           30001 non-null object\n",
      "X17           30001 non-null object\n",
      "X18           30001 non-null object\n",
      "X19           30001 non-null object\n",
      "X20           30001 non-null object\n",
      "X21           30001 non-null object\n",
      "X22           30001 non-null object\n",
      "X23           30001 non-null object\n",
      "Y             30001 non-null object\n",
      "dtypes: object(25)\n",
      "memory usage: 5.7+ MB\n"
     ]
    }
   ],
   "source": [
    "# Getting some information about the data\n",
    "df.info()"
   ]
  },
  {
   "cell_type": "markdown",
   "metadata": {
    "id": "4c7ZyzBndZ5r"
   },
   "source": [
    "All columns have object data type."
   ]
  },
  {
   "cell_type": "markdown",
   "metadata": {
    "id": "c2LSz-pbdZ5r"
   },
   "source": [
    "We will change the names of the columns to be more meaningful."
   ]
  },
  {
   "cell_type": "code",
   "execution_count": 6,
   "metadata": {
    "colab": {
     "base_uri": "https://localhost:8080/",
     "height": 316
    },
    "id": "7zIUupdtdZ5s",
    "outputId": "b2014dd0-538f-4ec9-f6b5-21c7928a0026"
   },
   "outputs": [
    {
     "data": {
      "text/html": [
       "<div>\n",
       "<style scoped>\n",
       "    .dataframe tbody tr th:only-of-type {\n",
       "        vertical-align: middle;\n",
       "    }\n",
       "\n",
       "    .dataframe tbody tr th {\n",
       "        vertical-align: top;\n",
       "    }\n",
       "\n",
       "    .dataframe thead th {\n",
       "        text-align: right;\n",
       "    }\n",
       "</style>\n",
       "<table border=\"1\" class=\"dataframe\">\n",
       "  <thead>\n",
       "    <tr style=\"text-align: right;\">\n",
       "      <th></th>\n",
       "      <th>ID</th>\n",
       "      <th>LIMIT_BAL</th>\n",
       "      <th>SEX</th>\n",
       "      <th>EDUCATION</th>\n",
       "      <th>MARRIAGE</th>\n",
       "      <th>AGE</th>\n",
       "      <th>PAY_0</th>\n",
       "      <th>PAY_2</th>\n",
       "      <th>PAY_3</th>\n",
       "      <th>PAY_4</th>\n",
       "      <th>...</th>\n",
       "      <th>BILL_AMT4</th>\n",
       "      <th>BILL_AMT5</th>\n",
       "      <th>BILL_AMT6</th>\n",
       "      <th>PAY_AMT1</th>\n",
       "      <th>PAY_AMT2</th>\n",
       "      <th>PAY_AMT3</th>\n",
       "      <th>PAY_AMT4</th>\n",
       "      <th>PAY_AMT5</th>\n",
       "      <th>PAY_AMT6</th>\n",
       "      <th>default payment next month</th>\n",
       "    </tr>\n",
       "  </thead>\n",
       "  <tbody>\n",
       "    <tr>\n",
       "      <td>0</td>\n",
       "      <td>ID</td>\n",
       "      <td>LIMIT_BAL</td>\n",
       "      <td>SEX</td>\n",
       "      <td>EDUCATION</td>\n",
       "      <td>MARRIAGE</td>\n",
       "      <td>AGE</td>\n",
       "      <td>PAY_0</td>\n",
       "      <td>PAY_2</td>\n",
       "      <td>PAY_3</td>\n",
       "      <td>PAY_4</td>\n",
       "      <td>...</td>\n",
       "      <td>BILL_AMT4</td>\n",
       "      <td>BILL_AMT5</td>\n",
       "      <td>BILL_AMT6</td>\n",
       "      <td>PAY_AMT1</td>\n",
       "      <td>PAY_AMT2</td>\n",
       "      <td>PAY_AMT3</td>\n",
       "      <td>PAY_AMT4</td>\n",
       "      <td>PAY_AMT5</td>\n",
       "      <td>PAY_AMT6</td>\n",
       "      <td>default payment next month</td>\n",
       "    </tr>\n",
       "    <tr>\n",
       "      <td>1</td>\n",
       "      <td>1</td>\n",
       "      <td>20000</td>\n",
       "      <td>female</td>\n",
       "      <td>university</td>\n",
       "      <td>married</td>\n",
       "      <td>24</td>\n",
       "      <td>2</td>\n",
       "      <td>2</td>\n",
       "      <td>-1</td>\n",
       "      <td>-1</td>\n",
       "      <td>...</td>\n",
       "      <td>0</td>\n",
       "      <td>0</td>\n",
       "      <td>0</td>\n",
       "      <td>0</td>\n",
       "      <td>689</td>\n",
       "      <td>0</td>\n",
       "      <td>0</td>\n",
       "      <td>0</td>\n",
       "      <td>0</td>\n",
       "      <td>1</td>\n",
       "    </tr>\n",
       "    <tr>\n",
       "      <td>2</td>\n",
       "      <td>2</td>\n",
       "      <td>120000</td>\n",
       "      <td>female</td>\n",
       "      <td>university</td>\n",
       "      <td>single</td>\n",
       "      <td>26</td>\n",
       "      <td>-1</td>\n",
       "      <td>2</td>\n",
       "      <td>0</td>\n",
       "      <td>0</td>\n",
       "      <td>...</td>\n",
       "      <td>3272</td>\n",
       "      <td>3455</td>\n",
       "      <td>3261</td>\n",
       "      <td>0</td>\n",
       "      <td>1000</td>\n",
       "      <td>1000</td>\n",
       "      <td>1000</td>\n",
       "      <td>0</td>\n",
       "      <td>2000</td>\n",
       "      <td>1</td>\n",
       "    </tr>\n",
       "    <tr>\n",
       "      <td>3</td>\n",
       "      <td>3</td>\n",
       "      <td>90000</td>\n",
       "      <td>female</td>\n",
       "      <td>university</td>\n",
       "      <td>single</td>\n",
       "      <td>34</td>\n",
       "      <td>0</td>\n",
       "      <td>0</td>\n",
       "      <td>0</td>\n",
       "      <td>0</td>\n",
       "      <td>...</td>\n",
       "      <td>14331</td>\n",
       "      <td>14948</td>\n",
       "      <td>15549</td>\n",
       "      <td>1518</td>\n",
       "      <td>1500</td>\n",
       "      <td>1000</td>\n",
       "      <td>1000</td>\n",
       "      <td>1000</td>\n",
       "      <td>5000</td>\n",
       "      <td>0</td>\n",
       "    </tr>\n",
       "    <tr>\n",
       "      <td>4</td>\n",
       "      <td>4</td>\n",
       "      <td>50000</td>\n",
       "      <td>female</td>\n",
       "      <td>university</td>\n",
       "      <td>married</td>\n",
       "      <td>37</td>\n",
       "      <td>0</td>\n",
       "      <td>0</td>\n",
       "      <td>0</td>\n",
       "      <td>0</td>\n",
       "      <td>...</td>\n",
       "      <td>28314</td>\n",
       "      <td>28959</td>\n",
       "      <td>29547</td>\n",
       "      <td>2000</td>\n",
       "      <td>2019</td>\n",
       "      <td>1200</td>\n",
       "      <td>1100</td>\n",
       "      <td>1069</td>\n",
       "      <td>1000</td>\n",
       "      <td>0</td>\n",
       "    </tr>\n",
       "  </tbody>\n",
       "</table>\n",
       "<p>5 rows × 25 columns</p>\n",
       "</div>"
      ],
      "text/plain": [
       "   ID  LIMIT_BAL     SEX   EDUCATION  MARRIAGE  AGE  PAY_0  PAY_2  PAY_3  \\\n",
       "0  ID  LIMIT_BAL     SEX   EDUCATION  MARRIAGE  AGE  PAY_0  PAY_2  PAY_3   \n",
       "1   1      20000  female  university   married   24      2      2     -1   \n",
       "2   2     120000  female  university    single   26     -1      2      0   \n",
       "3   3      90000  female  university    single   34      0      0      0   \n",
       "4   4      50000  female  university   married   37      0      0      0   \n",
       "\n",
       "   PAY_4  ...  BILL_AMT4  BILL_AMT5  BILL_AMT6  PAY_AMT1  PAY_AMT2  PAY_AMT3  \\\n",
       "0  PAY_4  ...  BILL_AMT4  BILL_AMT5  BILL_AMT6  PAY_AMT1  PAY_AMT2  PAY_AMT3   \n",
       "1     -1  ...          0          0          0         0       689         0   \n",
       "2      0  ...       3272       3455       3261         0      1000      1000   \n",
       "3      0  ...      14331      14948      15549      1518      1500      1000   \n",
       "4      0  ...      28314      28959      29547      2000      2019      1200   \n",
       "\n",
       "   PAY_AMT4  PAY_AMT5  PAY_AMT6  default payment next month  \n",
       "0  PAY_AMT4  PAY_AMT5  PAY_AMT6  default payment next month  \n",
       "1         0         0         0                           1  \n",
       "2      1000         0      2000                           1  \n",
       "3      1000      1000      5000                           0  \n",
       "4      1100      1069      1000                           0  \n",
       "\n",
       "[5 rows x 25 columns]"
      ]
     },
     "execution_count": 6,
     "metadata": {},
     "output_type": "execute_result"
    }
   ],
   "source": [
    "# Changing column names\n",
    "for column in df:\n",
    "    df.rename(columns={column : df[column][0]}, inplace=True)\n",
    "df.head()"
   ]
  },
  {
   "cell_type": "markdown",
   "metadata": {
    "id": "8OLpfILEdZ5s"
   },
   "source": [
    "Now we will drop the first row and reset the index to start counting from 0."
   ]
  },
  {
   "cell_type": "code",
   "execution_count": 7,
   "metadata": {
    "id": "R1fALmmVdZ5s",
    "scrolled": false
   },
   "outputs": [],
   "source": [
    "# Drop and reset\n",
    "df.drop(0, inplace=True)\n",
    "df.reset_index(drop=True, inplace=True)"
   ]
  },
  {
   "cell_type": "markdown",
   "metadata": {
    "id": "BOPb7WHidZ5s"
   },
   "source": [
    "We will change column names to lower case."
   ]
  },
  {
   "cell_type": "code",
   "execution_count": 8,
   "metadata": {
    "id": "rovbz6RidZ5s"
   },
   "outputs": [],
   "source": [
    "# Change column names to lower case and replace spaces with underscores\n",
    "df.columns = df.columns.str.lower().str.replace(' ', '_')"
   ]
  },
  {
   "cell_type": "code",
   "execution_count": 9,
   "metadata": {
    "colab": {
     "base_uri": "https://localhost:8080/"
    },
    "id": "BR9T2o1bdZ5s",
    "outputId": "2f637956-a406-442a-ea92-6dcc468af211"
   },
   "outputs": [
    {
     "data": {
      "text/plain": [
       "Index(['id', 'limit_bal', 'sex', 'education', 'marriage', 'age', 'pay_0',\n",
       "       'pay_2', 'pay_3', 'pay_4', 'pay_5', 'pay_6', 'bill_amt1', 'bill_amt2',\n",
       "       'bill_amt3', 'bill_amt4', 'bill_amt5', 'bill_amt6', 'pay_amt1',\n",
       "       'pay_amt2', 'pay_amt3', 'pay_amt4', 'pay_amt5', 'pay_amt6',\n",
       "       'default_payment_next_month'],\n",
       "      dtype='object')"
      ]
     },
     "execution_count": 9,
     "metadata": {},
     "output_type": "execute_result"
    }
   ],
   "source": [
    "df.columns"
   ]
  },
  {
   "cell_type": "code",
   "execution_count": 10,
   "metadata": {
    "colab": {
     "base_uri": "https://localhost:8080/",
     "height": 472
    },
    "id": "Bj9MF7dmdZ5t",
    "outputId": "c18216a1-0018-4ab9-9d4f-0583ed954a65"
   },
   "outputs": [
    {
     "data": {
      "text/html": [
       "<div>\n",
       "<style scoped>\n",
       "    .dataframe tbody tr th:only-of-type {\n",
       "        vertical-align: middle;\n",
       "    }\n",
       "\n",
       "    .dataframe tbody tr th {\n",
       "        vertical-align: top;\n",
       "    }\n",
       "\n",
       "    .dataframe thead th {\n",
       "        text-align: right;\n",
       "    }\n",
       "</style>\n",
       "<table border=\"1\" class=\"dataframe\">\n",
       "  <thead>\n",
       "    <tr style=\"text-align: right;\">\n",
       "      <th></th>\n",
       "      <th>id</th>\n",
       "      <th>limit_bal</th>\n",
       "      <th>sex</th>\n",
       "      <th>education</th>\n",
       "      <th>marriage</th>\n",
       "      <th>age</th>\n",
       "      <th>pay_0</th>\n",
       "      <th>pay_2</th>\n",
       "      <th>pay_3</th>\n",
       "      <th>pay_4</th>\n",
       "      <th>...</th>\n",
       "      <th>bill_amt4</th>\n",
       "      <th>bill_amt5</th>\n",
       "      <th>bill_amt6</th>\n",
       "      <th>pay_amt1</th>\n",
       "      <th>pay_amt2</th>\n",
       "      <th>pay_amt3</th>\n",
       "      <th>pay_amt4</th>\n",
       "      <th>pay_amt5</th>\n",
       "      <th>pay_amt6</th>\n",
       "      <th>default_payment_next_month</th>\n",
       "    </tr>\n",
       "  </thead>\n",
       "  <tbody>\n",
       "    <tr>\n",
       "      <td>0</td>\n",
       "      <td>1</td>\n",
       "      <td>20000</td>\n",
       "      <td>female</td>\n",
       "      <td>university</td>\n",
       "      <td>married</td>\n",
       "      <td>24</td>\n",
       "      <td>2</td>\n",
       "      <td>2</td>\n",
       "      <td>-1</td>\n",
       "      <td>-1</td>\n",
       "      <td>...</td>\n",
       "      <td>0</td>\n",
       "      <td>0</td>\n",
       "      <td>0</td>\n",
       "      <td>0</td>\n",
       "      <td>689</td>\n",
       "      <td>0</td>\n",
       "      <td>0</td>\n",
       "      <td>0</td>\n",
       "      <td>0</td>\n",
       "      <td>1</td>\n",
       "    </tr>\n",
       "    <tr>\n",
       "      <td>1</td>\n",
       "      <td>2</td>\n",
       "      <td>120000</td>\n",
       "      <td>female</td>\n",
       "      <td>university</td>\n",
       "      <td>single</td>\n",
       "      <td>26</td>\n",
       "      <td>-1</td>\n",
       "      <td>2</td>\n",
       "      <td>0</td>\n",
       "      <td>0</td>\n",
       "      <td>...</td>\n",
       "      <td>3272</td>\n",
       "      <td>3455</td>\n",
       "      <td>3261</td>\n",
       "      <td>0</td>\n",
       "      <td>1000</td>\n",
       "      <td>1000</td>\n",
       "      <td>1000</td>\n",
       "      <td>0</td>\n",
       "      <td>2000</td>\n",
       "      <td>1</td>\n",
       "    </tr>\n",
       "    <tr>\n",
       "      <td>2</td>\n",
       "      <td>3</td>\n",
       "      <td>90000</td>\n",
       "      <td>female</td>\n",
       "      <td>university</td>\n",
       "      <td>single</td>\n",
       "      <td>34</td>\n",
       "      <td>0</td>\n",
       "      <td>0</td>\n",
       "      <td>0</td>\n",
       "      <td>0</td>\n",
       "      <td>...</td>\n",
       "      <td>14331</td>\n",
       "      <td>14948</td>\n",
       "      <td>15549</td>\n",
       "      <td>1518</td>\n",
       "      <td>1500</td>\n",
       "      <td>1000</td>\n",
       "      <td>1000</td>\n",
       "      <td>1000</td>\n",
       "      <td>5000</td>\n",
       "      <td>0</td>\n",
       "    </tr>\n",
       "    <tr>\n",
       "      <td>3</td>\n",
       "      <td>4</td>\n",
       "      <td>50000</td>\n",
       "      <td>female</td>\n",
       "      <td>university</td>\n",
       "      <td>married</td>\n",
       "      <td>37</td>\n",
       "      <td>0</td>\n",
       "      <td>0</td>\n",
       "      <td>0</td>\n",
       "      <td>0</td>\n",
       "      <td>...</td>\n",
       "      <td>28314</td>\n",
       "      <td>28959</td>\n",
       "      <td>29547</td>\n",
       "      <td>2000</td>\n",
       "      <td>2019</td>\n",
       "      <td>1200</td>\n",
       "      <td>1100</td>\n",
       "      <td>1069</td>\n",
       "      <td>1000</td>\n",
       "      <td>0</td>\n",
       "    </tr>\n",
       "    <tr>\n",
       "      <td>4</td>\n",
       "      <td>5</td>\n",
       "      <td>50000</td>\n",
       "      <td>male</td>\n",
       "      <td>university</td>\n",
       "      <td>married</td>\n",
       "      <td>57</td>\n",
       "      <td>-1</td>\n",
       "      <td>0</td>\n",
       "      <td>-1</td>\n",
       "      <td>0</td>\n",
       "      <td>...</td>\n",
       "      <td>20940</td>\n",
       "      <td>19146</td>\n",
       "      <td>19131</td>\n",
       "      <td>2000</td>\n",
       "      <td>36681</td>\n",
       "      <td>10000</td>\n",
       "      <td>9000</td>\n",
       "      <td>689</td>\n",
       "      <td>679</td>\n",
       "      <td>0</td>\n",
       "    </tr>\n",
       "    <tr>\n",
       "      <td>...</td>\n",
       "      <td>...</td>\n",
       "      <td>...</td>\n",
       "      <td>...</td>\n",
       "      <td>...</td>\n",
       "      <td>...</td>\n",
       "      <td>...</td>\n",
       "      <td>...</td>\n",
       "      <td>...</td>\n",
       "      <td>...</td>\n",
       "      <td>...</td>\n",
       "      <td>...</td>\n",
       "      <td>...</td>\n",
       "      <td>...</td>\n",
       "      <td>...</td>\n",
       "      <td>...</td>\n",
       "      <td>...</td>\n",
       "      <td>...</td>\n",
       "      <td>...</td>\n",
       "      <td>...</td>\n",
       "      <td>...</td>\n",
       "      <td>...</td>\n",
       "    </tr>\n",
       "    <tr>\n",
       "      <td>29995</td>\n",
       "      <td>29996</td>\n",
       "      <td>220000</td>\n",
       "      <td>male</td>\n",
       "      <td>high school</td>\n",
       "      <td>married</td>\n",
       "      <td>39</td>\n",
       "      <td>0</td>\n",
       "      <td>0</td>\n",
       "      <td>0</td>\n",
       "      <td>0</td>\n",
       "      <td>...</td>\n",
       "      <td>88004</td>\n",
       "      <td>31237</td>\n",
       "      <td>15980</td>\n",
       "      <td>8500</td>\n",
       "      <td>20000</td>\n",
       "      <td>5003</td>\n",
       "      <td>3047</td>\n",
       "      <td>5000</td>\n",
       "      <td>1000</td>\n",
       "      <td>0</td>\n",
       "    </tr>\n",
       "    <tr>\n",
       "      <td>29996</td>\n",
       "      <td>29997</td>\n",
       "      <td>150000</td>\n",
       "      <td>male</td>\n",
       "      <td>high school</td>\n",
       "      <td>single</td>\n",
       "      <td>43</td>\n",
       "      <td>-1</td>\n",
       "      <td>-1</td>\n",
       "      <td>-1</td>\n",
       "      <td>-1</td>\n",
       "      <td>...</td>\n",
       "      <td>8979</td>\n",
       "      <td>5190</td>\n",
       "      <td>0</td>\n",
       "      <td>1837</td>\n",
       "      <td>3526</td>\n",
       "      <td>8998</td>\n",
       "      <td>129</td>\n",
       "      <td>0</td>\n",
       "      <td>0</td>\n",
       "      <td>0</td>\n",
       "    </tr>\n",
       "    <tr>\n",
       "      <td>29997</td>\n",
       "      <td>29998</td>\n",
       "      <td>30000</td>\n",
       "      <td>male</td>\n",
       "      <td>university</td>\n",
       "      <td>single</td>\n",
       "      <td>37</td>\n",
       "      <td>4</td>\n",
       "      <td>3</td>\n",
       "      <td>2</td>\n",
       "      <td>-1</td>\n",
       "      <td>...</td>\n",
       "      <td>20878</td>\n",
       "      <td>20582</td>\n",
       "      <td>19357</td>\n",
       "      <td>0</td>\n",
       "      <td>0</td>\n",
       "      <td>22000</td>\n",
       "      <td>4200</td>\n",
       "      <td>2000</td>\n",
       "      <td>3100</td>\n",
       "      <td>1</td>\n",
       "    </tr>\n",
       "    <tr>\n",
       "      <td>29998</td>\n",
       "      <td>29999</td>\n",
       "      <td>80000</td>\n",
       "      <td>male</td>\n",
       "      <td>high school</td>\n",
       "      <td>married</td>\n",
       "      <td>41</td>\n",
       "      <td>1</td>\n",
       "      <td>-1</td>\n",
       "      <td>0</td>\n",
       "      <td>0</td>\n",
       "      <td>...</td>\n",
       "      <td>52774</td>\n",
       "      <td>11855</td>\n",
       "      <td>48944</td>\n",
       "      <td>85900</td>\n",
       "      <td>3409</td>\n",
       "      <td>1178</td>\n",
       "      <td>1926</td>\n",
       "      <td>52964</td>\n",
       "      <td>1804</td>\n",
       "      <td>1</td>\n",
       "    </tr>\n",
       "    <tr>\n",
       "      <td>29999</td>\n",
       "      <td>30000</td>\n",
       "      <td>50000</td>\n",
       "      <td>male</td>\n",
       "      <td>university</td>\n",
       "      <td>married</td>\n",
       "      <td>46</td>\n",
       "      <td>0</td>\n",
       "      <td>0</td>\n",
       "      <td>0</td>\n",
       "      <td>0</td>\n",
       "      <td>...</td>\n",
       "      <td>36535</td>\n",
       "      <td>32428</td>\n",
       "      <td>15313</td>\n",
       "      <td>2078</td>\n",
       "      <td>1800</td>\n",
       "      <td>1430</td>\n",
       "      <td>1000</td>\n",
       "      <td>1000</td>\n",
       "      <td>1000</td>\n",
       "      <td>1</td>\n",
       "    </tr>\n",
       "  </tbody>\n",
       "</table>\n",
       "<p>30000 rows × 25 columns</p>\n",
       "</div>"
      ],
      "text/plain": [
       "          id limit_bal     sex    education marriage age pay_0 pay_2 pay_3  \\\n",
       "0          1     20000  female   university  married  24     2     2    -1   \n",
       "1          2    120000  female   university   single  26    -1     2     0   \n",
       "2          3     90000  female   university   single  34     0     0     0   \n",
       "3          4     50000  female   university  married  37     0     0     0   \n",
       "4          5     50000    male   university  married  57    -1     0    -1   \n",
       "...      ...       ...     ...          ...      ...  ..   ...   ...   ...   \n",
       "29995  29996    220000    male  high school  married  39     0     0     0   \n",
       "29996  29997    150000    male  high school   single  43    -1    -1    -1   \n",
       "29997  29998     30000    male   university   single  37     4     3     2   \n",
       "29998  29999     80000    male  high school  married  41     1    -1     0   \n",
       "29999  30000     50000    male   university  married  46     0     0     0   \n",
       "\n",
       "      pay_4  ... bill_amt4 bill_amt5 bill_amt6 pay_amt1 pay_amt2 pay_amt3  \\\n",
       "0        -1  ...         0         0         0        0      689        0   \n",
       "1         0  ...      3272      3455      3261        0     1000     1000   \n",
       "2         0  ...     14331     14948     15549     1518     1500     1000   \n",
       "3         0  ...     28314     28959     29547     2000     2019     1200   \n",
       "4         0  ...     20940     19146     19131     2000    36681    10000   \n",
       "...     ...  ...       ...       ...       ...      ...      ...      ...   \n",
       "29995     0  ...     88004     31237     15980     8500    20000     5003   \n",
       "29996    -1  ...      8979      5190         0     1837     3526     8998   \n",
       "29997    -1  ...     20878     20582     19357        0        0    22000   \n",
       "29998     0  ...     52774     11855     48944    85900     3409     1178   \n",
       "29999     0  ...     36535     32428     15313     2078     1800     1430   \n",
       "\n",
       "      pay_amt4 pay_amt5 pay_amt6 default_payment_next_month  \n",
       "0            0        0        0                          1  \n",
       "1         1000        0     2000                          1  \n",
       "2         1000     1000     5000                          0  \n",
       "3         1100     1069     1000                          0  \n",
       "4         9000      689      679                          0  \n",
       "...        ...      ...      ...                        ...  \n",
       "29995     3047     5000     1000                          0  \n",
       "29996      129        0        0                          0  \n",
       "29997     4200     2000     3100                          1  \n",
       "29998     1926    52964     1804                          1  \n",
       "29999     1000     1000     1000                          1  \n",
       "\n",
       "[30000 rows x 25 columns]"
      ]
     },
     "execution_count": 10,
     "metadata": {},
     "output_type": "execute_result"
    }
   ],
   "source": [
    "df"
   ]
  },
  {
   "cell_type": "markdown",
   "metadata": {
    "id": "AVWzVBz_dZ5t"
   },
   "source": [
    "We see here that there are very few null values. They can be either imputed or dropped."
   ]
  },
  {
   "cell_type": "code",
   "execution_count": 11,
   "metadata": {
    "colab": {
     "base_uri": "https://localhost:8080/"
    },
    "id": "KTB4u_VudZ5t",
    "outputId": "485f530d-f869-4bd4-ca74-0b79f971e853"
   },
   "outputs": [
    {
     "data": {
      "text/plain": [
       "university         14030\n",
       "graduate school    10585\n",
       "high school         4916\n",
       "others               124\n",
       "0                     14\n",
       "Name: education, dtype: int64"
      ]
     },
     "execution_count": 11,
     "metadata": {},
     "output_type": "execute_result"
    }
   ],
   "source": [
    "# Checking different values for EDUCATION\n",
    "df.education.value_counts()"
   ]
  },
  {
   "cell_type": "code",
   "execution_count": 12,
   "metadata": {
    "colab": {
     "base_uri": "https://localhost:8080/"
    },
    "id": "SiTfWvc6dZ5t",
    "outputId": "1cf4de5c-218b-4ec1-fc4a-77c354ee4daf"
   },
   "outputs": [
    {
     "data": {
      "text/plain": [
       "single     15964\n",
       "married    13659\n",
       "0             54\n",
       "Name: marriage, dtype: int64"
      ]
     },
     "execution_count": 12,
     "metadata": {},
     "output_type": "execute_result"
    }
   ],
   "source": [
    "# Checking different values for MARRIAGE\n",
    "df.marriage.value_counts()"
   ]
  },
  {
   "cell_type": "markdown",
   "metadata": {
    "id": "GwgYOecEdZ5u"
   },
   "source": [
    "Columns education and marriage have some meaningless values."
   ]
  },
  {
   "cell_type": "code",
   "execution_count": 13,
   "metadata": {
    "colab": {
     "base_uri": "https://localhost:8080/"
    },
    "id": "Qnjiv27AdZ5u",
    "outputId": "bc60e81d-3dab-4db8-da01-f27dc147ed4c"
   },
   "outputs": [
    {
     "data": {
      "text/plain": [
       "331"
      ]
     },
     "execution_count": 13,
     "metadata": {},
     "output_type": "execute_result"
    }
   ],
   "source": [
    "# Getting the number of null values\n",
    "df.education.isnull().sum()"
   ]
  },
  {
   "cell_type": "code",
   "execution_count": 14,
   "metadata": {
    "colab": {
     "base_uri": "https://localhost:8080/",
     "height": 35
    },
    "id": "rhqz8ROUdZ5u",
    "outputId": "f7015b06-ed9a-44b2-8bb3-1f696da911d1"
   },
   "outputs": [
    {
     "data": {
      "text/plain": [
       "'university'"
      ]
     },
     "execution_count": 14,
     "metadata": {},
     "output_type": "execute_result"
    }
   ],
   "source": [
    "# Getting the mode of feature EDUCATION\n",
    "education_mode = df.education.value_counts().index[0]\n",
    "education_mode"
   ]
  },
  {
   "cell_type": "code",
   "execution_count": 15,
   "metadata": {
    "colab": {
     "base_uri": "https://localhost:8080/"
    },
    "id": "c4YtgrpRdZ5u",
    "outputId": "b06094b5-84bb-4182-b705-ca54687e752d"
   },
   "outputs": [
    {
     "data": {
      "text/plain": [
       "0"
      ]
     },
     "execution_count": 15,
     "metadata": {},
     "output_type": "execute_result"
    }
   ],
   "source": [
    "# Replacing the 0 with Null to facilitate calculations\n",
    "df.education.replace(0, np.nan, inplace=True)\n",
    "# Filling the missing values with the mode\n",
    "df.education.fillna(education_mode, inplace=True)\n",
    "df.education.isnull().sum()"
   ]
  },
  {
   "cell_type": "code",
   "execution_count": 16,
   "metadata": {
    "colab": {
     "base_uri": "https://localhost:8080/"
    },
    "id": "F2A5Nl7ZdZ5u",
    "outputId": "98b980ee-ca1c-4082-af34-fa4c9a5e822e"
   },
   "outputs": [
    {
     "data": {
      "text/plain": [
       "university         14375\n",
       "graduate school    10585\n",
       "high school         4916\n",
       "others               124\n",
       "Name: education, dtype: int64"
      ]
     },
     "execution_count": 16,
     "metadata": {},
     "output_type": "execute_result"
    }
   ],
   "source": [
    "df.education.value_counts()"
   ]
  },
  {
   "cell_type": "code",
   "execution_count": 17,
   "metadata": {
    "colab": {
     "base_uri": "https://localhost:8080/"
    },
    "id": "_sLjgZEXdZ5v",
    "outputId": "d62555bd-5256-47ee-bde1-c9a0a154d86a"
   },
   "outputs": [
    {
     "data": {
      "text/plain": [
       "323"
      ]
     },
     "execution_count": 17,
     "metadata": {},
     "output_type": "execute_result"
    }
   ],
   "source": [
    "# Getting the number of null values\n",
    "df.marriage.isnull().sum()"
   ]
  },
  {
   "cell_type": "code",
   "execution_count": 18,
   "metadata": {
    "colab": {
     "base_uri": "https://localhost:8080/",
     "height": 35
    },
    "id": "TzcJAVSodZ5v",
    "outputId": "6fe39c11-c0a0-43e1-aa01-0d8c333bc750"
   },
   "outputs": [
    {
     "data": {
      "text/plain": [
       "'single'"
      ]
     },
     "execution_count": 18,
     "metadata": {},
     "output_type": "execute_result"
    }
   ],
   "source": [
    "# Getting the mode of feature MARRIAGE\n",
    "marriage_mode = df.marriage.value_counts().index[0]\n",
    "marriage_mode"
   ]
  },
  {
   "cell_type": "code",
   "execution_count": 19,
   "metadata": {
    "colab": {
     "base_uri": "https://localhost:8080/"
    },
    "id": "5dnCqwzHdZ5v",
    "outputId": "ea93c723-fe62-4115-c7c1-ddc39047755c"
   },
   "outputs": [
    {
     "data": {
      "text/plain": [
       "0"
      ]
     },
     "execution_count": 19,
     "metadata": {},
     "output_type": "execute_result"
    }
   ],
   "source": [
    "# Replacing the 0 with Null to facilitate calculations\n",
    "df.marriage.replace(0, np.nan, inplace=True)\n",
    "# Filling the missing values with the mode\n",
    "df.marriage.fillna(marriage_mode, inplace=True)\n",
    "df.marriage.isnull().sum()"
   ]
  },
  {
   "cell_type": "code",
   "execution_count": 20,
   "metadata": {
    "colab": {
     "base_uri": "https://localhost:8080/"
    },
    "id": "j6YOe-jtdZ5v",
    "outputId": "543de422-9144-4ba6-af43-5871a822791b"
   },
   "outputs": [
    {
     "data": {
      "text/plain": [
       "single     16341\n",
       "married    13659\n",
       "Name: marriage, dtype: int64"
      ]
     },
     "execution_count": 20,
     "metadata": {},
     "output_type": "execute_result"
    }
   ],
   "source": [
    "df.marriage.value_counts()"
   ]
  },
  {
   "cell_type": "code",
   "execution_count": 21,
   "metadata": {
    "colab": {
     "base_uri": "https://localhost:8080/"
    },
    "id": "uU0lVKnOdZ5v",
    "outputId": "e9551d7c-c823-48f2-81df-bd4a0933836e",
    "scrolled": false
   },
   "outputs": [
    {
     "data": {
      "text/plain": [
       "id                            0\n",
       "limit_bal                     0\n",
       "sex                           0\n",
       "education                     0\n",
       "marriage                      0\n",
       "age                           0\n",
       "pay_0                         0\n",
       "pay_2                         0\n",
       "pay_3                         0\n",
       "pay_4                         0\n",
       "pay_5                         0\n",
       "pay_6                         0\n",
       "bill_amt1                     0\n",
       "bill_amt2                     0\n",
       "bill_amt3                     0\n",
       "bill_amt4                     0\n",
       "bill_amt5                     0\n",
       "bill_amt6                     0\n",
       "pay_amt1                      0\n",
       "pay_amt2                      0\n",
       "pay_amt3                      0\n",
       "pay_amt4                      0\n",
       "pay_amt5                      0\n",
       "pay_amt6                      0\n",
       "default_payment_next_month    0\n",
       "dtype: int64"
      ]
     },
     "execution_count": 21,
     "metadata": {},
     "output_type": "execute_result"
    }
   ],
   "source": [
    "df.isna().sum()"
   ]
  },
  {
   "cell_type": "code",
   "execution_count": 22,
   "metadata": {
    "colab": {
     "base_uri": "https://localhost:8080/",
     "height": 186
    },
    "id": "7rA2i3wudZ5w",
    "outputId": "2dd4640a-8656-4478-8ae2-afa4bdb6c480",
    "scrolled": false
   },
   "outputs": [
    {
     "data": {
      "text/html": [
       "<div>\n",
       "<style scoped>\n",
       "    .dataframe tbody tr th:only-of-type {\n",
       "        vertical-align: middle;\n",
       "    }\n",
       "\n",
       "    .dataframe tbody tr th {\n",
       "        vertical-align: top;\n",
       "    }\n",
       "\n",
       "    .dataframe thead th {\n",
       "        text-align: right;\n",
       "    }\n",
       "</style>\n",
       "<table border=\"1\" class=\"dataframe\">\n",
       "  <thead>\n",
       "    <tr style=\"text-align: right;\">\n",
       "      <th></th>\n",
       "      <th>id</th>\n",
       "      <th>limit_bal</th>\n",
       "      <th>sex</th>\n",
       "      <th>education</th>\n",
       "      <th>marriage</th>\n",
       "      <th>age</th>\n",
       "      <th>pay_0</th>\n",
       "      <th>pay_2</th>\n",
       "      <th>pay_3</th>\n",
       "      <th>pay_4</th>\n",
       "      <th>...</th>\n",
       "      <th>bill_amt4</th>\n",
       "      <th>bill_amt5</th>\n",
       "      <th>bill_amt6</th>\n",
       "      <th>pay_amt1</th>\n",
       "      <th>pay_amt2</th>\n",
       "      <th>pay_amt3</th>\n",
       "      <th>pay_amt4</th>\n",
       "      <th>pay_amt5</th>\n",
       "      <th>pay_amt6</th>\n",
       "      <th>default_payment_next_month</th>\n",
       "    </tr>\n",
       "  </thead>\n",
       "  <tbody>\n",
       "    <tr>\n",
       "      <td>count</td>\n",
       "      <td>30000</td>\n",
       "      <td>30000</td>\n",
       "      <td>30000</td>\n",
       "      <td>30000</td>\n",
       "      <td>30000</td>\n",
       "      <td>30000</td>\n",
       "      <td>30000</td>\n",
       "      <td>30000</td>\n",
       "      <td>30000</td>\n",
       "      <td>30000</td>\n",
       "      <td>...</td>\n",
       "      <td>30000</td>\n",
       "      <td>30000</td>\n",
       "      <td>30000</td>\n",
       "      <td>30000</td>\n",
       "      <td>30000</td>\n",
       "      <td>30000</td>\n",
       "      <td>30000</td>\n",
       "      <td>30000</td>\n",
       "      <td>30000</td>\n",
       "      <td>30000</td>\n",
       "    </tr>\n",
       "    <tr>\n",
       "      <td>unique</td>\n",
       "      <td>30000</td>\n",
       "      <td>81</td>\n",
       "      <td>2</td>\n",
       "      <td>4</td>\n",
       "      <td>2</td>\n",
       "      <td>63</td>\n",
       "      <td>11</td>\n",
       "      <td>11</td>\n",
       "      <td>11</td>\n",
       "      <td>11</td>\n",
       "      <td>...</td>\n",
       "      <td>21548</td>\n",
       "      <td>21010</td>\n",
       "      <td>20604</td>\n",
       "      <td>7943</td>\n",
       "      <td>7899</td>\n",
       "      <td>7518</td>\n",
       "      <td>6937</td>\n",
       "      <td>6897</td>\n",
       "      <td>6939</td>\n",
       "      <td>2</td>\n",
       "    </tr>\n",
       "    <tr>\n",
       "      <td>top</td>\n",
       "      <td>30000</td>\n",
       "      <td>50000</td>\n",
       "      <td>female</td>\n",
       "      <td>university</td>\n",
       "      <td>single</td>\n",
       "      <td>29</td>\n",
       "      <td>0</td>\n",
       "      <td>0</td>\n",
       "      <td>0</td>\n",
       "      <td>0</td>\n",
       "      <td>...</td>\n",
       "      <td>0</td>\n",
       "      <td>0</td>\n",
       "      <td>0</td>\n",
       "      <td>0</td>\n",
       "      <td>0</td>\n",
       "      <td>0</td>\n",
       "      <td>0</td>\n",
       "      <td>0</td>\n",
       "      <td>0</td>\n",
       "      <td>0</td>\n",
       "    </tr>\n",
       "    <tr>\n",
       "      <td>freq</td>\n",
       "      <td>1</td>\n",
       "      <td>3365</td>\n",
       "      <td>18112</td>\n",
       "      <td>14375</td>\n",
       "      <td>16341</td>\n",
       "      <td>1605</td>\n",
       "      <td>14737</td>\n",
       "      <td>15730</td>\n",
       "      <td>15764</td>\n",
       "      <td>16455</td>\n",
       "      <td>...</td>\n",
       "      <td>3195</td>\n",
       "      <td>3506</td>\n",
       "      <td>4020</td>\n",
       "      <td>5249</td>\n",
       "      <td>5396</td>\n",
       "      <td>5968</td>\n",
       "      <td>6408</td>\n",
       "      <td>6703</td>\n",
       "      <td>7173</td>\n",
       "      <td>23364</td>\n",
       "    </tr>\n",
       "  </tbody>\n",
       "</table>\n",
       "<p>4 rows × 25 columns</p>\n",
       "</div>"
      ],
      "text/plain": [
       "           id  limit_bal     sex   education marriage    age  pay_0  pay_2  \\\n",
       "count   30000      30000   30000       30000    30000  30000  30000  30000   \n",
       "unique  30000         81       2           4        2     63     11     11   \n",
       "top     30000      50000  female  university   single     29      0      0   \n",
       "freq        1       3365   18112       14375    16341   1605  14737  15730   \n",
       "\n",
       "        pay_3  pay_4  ...  bill_amt4  bill_amt5  bill_amt6  pay_amt1  \\\n",
       "count   30000  30000  ...      30000      30000      30000     30000   \n",
       "unique     11     11  ...      21548      21010      20604      7943   \n",
       "top         0      0  ...          0          0          0         0   \n",
       "freq    15764  16455  ...       3195       3506       4020      5249   \n",
       "\n",
       "        pay_amt2  pay_amt3  pay_amt4  pay_amt5  pay_amt6  \\\n",
       "count      30000     30000     30000     30000     30000   \n",
       "unique      7899      7518      6937      6897      6939   \n",
       "top            0         0         0         0         0   \n",
       "freq        5396      5968      6408      6703      7173   \n",
       "\n",
       "        default_payment_next_month  \n",
       "count                        30000  \n",
       "unique                           2  \n",
       "top                              0  \n",
       "freq                         23364  \n",
       "\n",
       "[4 rows x 25 columns]"
      ]
     },
     "execution_count": 22,
     "metadata": {},
     "output_type": "execute_result"
    }
   ],
   "source": [
    "df.describe()"
   ]
  },
  {
   "cell_type": "markdown",
   "metadata": {
    "id": "pPn-RuZDdZ5w"
   },
   "source": [
    "We will check if there are any duplicates"
   ]
  },
  {
   "cell_type": "code",
   "execution_count": 23,
   "metadata": {
    "colab": {
     "base_uri": "https://localhost:8080/"
    },
    "id": "WAA8pfXVdZ5w",
    "outputId": "b7b2377c-1fc6-4b62-b95f-6c4ad3133e61"
   },
   "outputs": [
    {
     "data": {
      "text/plain": [
       "0"
      ]
     },
     "execution_count": 23,
     "metadata": {},
     "output_type": "execute_result"
    }
   ],
   "source": [
    "# Checking the sum of duplicate rows\n",
    "df.duplicated().sum()"
   ]
  },
  {
   "cell_type": "markdown",
   "metadata": {
    "id": "eG6WwJr3dZ5w"
   },
   "source": [
    "The are no duplicate rows in our dataset."
   ]
  },
  {
   "cell_type": "markdown",
   "metadata": {
    "id": "buJ6o2mMdZ5w"
   },
   "source": [
    "We will check the values of the rest of the columns"
   ]
  },
  {
   "cell_type": "code",
   "execution_count": 24,
   "metadata": {
    "colab": {
     "base_uri": "https://localhost:8080/"
    },
    "id": "lX87rJC2dZ5w",
    "outputId": "ed8dd2ce-4607-413f-a739-47f5e247034b"
   },
   "outputs": [
    {
     "data": {
      "text/plain": [
       "female    18112\n",
       "male      11888\n",
       "Name: sex, dtype: int64"
      ]
     },
     "execution_count": 24,
     "metadata": {},
     "output_type": "execute_result"
    }
   ],
   "source": [
    "# checking values in sex column\n",
    "df.sex.value_counts()"
   ]
  },
  {
   "cell_type": "code",
   "execution_count": 25,
   "metadata": {
    "colab": {
     "base_uri": "https://localhost:8080/"
    },
    "id": "x1up3a1AdZ5x",
    "outputId": "9a6c5665-c7f6-4457-8606-c9e4b2aa0eaa"
   },
   "outputs": [
    {
     "data": {
      "text/plain": [
       "0    23364\n",
       "1     6636\n",
       "Name: default_payment_next_month, dtype: int64"
      ]
     },
     "execution_count": 25,
     "metadata": {},
     "output_type": "execute_result"
    }
   ],
   "source": [
    "# checking values in default_payment_next_month column\n",
    "df.default_payment_next_month.value_counts()"
   ]
  },
  {
   "cell_type": "markdown",
   "metadata": {
    "id": "zbp_DZ2KdZ5x"
   },
   "source": [
    "We will change the data type of the numeric columns to int"
   ]
  },
  {
   "cell_type": "code",
   "execution_count": 26,
   "metadata": {
    "id": "7PADT3NidZ5x"
   },
   "outputs": [],
   "source": [
    "# Changing columns data type\n",
    "df[['id', 'limit_bal', 'age', 'pay_0', 'pay_2', 'pay_3', 'pay_4', 'pay_5', 'pay_6', 'bill_amt1', 'bill_amt2', 'bill_amt3',\n",
    "    'bill_amt4', 'bill_amt5', 'bill_amt6', 'pay_amt1', 'pay_amt2', 'pay_amt3', 'pay_amt4', 'pay_amt5', 'pay_amt6', \n",
    "   'default_payment_next_month']] = df[['id', 'limit_bal', 'age', 'pay_0', 'pay_2', 'pay_3', 'pay_4', 'pay_5', 'pay_6', \n",
    "                                        'bill_amt1', 'bill_amt2', 'bill_amt3', 'bill_amt4', 'bill_amt5', 'bill_amt6',  \n",
    "                                        'pay_amt1', 'pay_amt2', 'pay_amt3', 'pay_amt4', 'pay_amt5', 'pay_amt6', \n",
    "   'default_payment_next_month']].astype('int64')"
   ]
  },
  {
   "cell_type": "code",
   "execution_count": 27,
   "metadata": {
    "colab": {
     "base_uri": "https://localhost:8080/"
    },
    "id": "BjnYRjWddZ5x",
    "outputId": "ea6619f3-1d56-4b06-d9b9-3a498b0fddee"
   },
   "outputs": [
    {
     "name": "stdout",
     "output_type": "stream",
     "text": [
      "<class 'pandas.core.frame.DataFrame'>\n",
      "RangeIndex: 30000 entries, 0 to 29999\n",
      "Data columns (total 25 columns):\n",
      "id                            30000 non-null int64\n",
      "limit_bal                     30000 non-null int64\n",
      "sex                           30000 non-null object\n",
      "education                     30000 non-null object\n",
      "marriage                      30000 non-null object\n",
      "age                           30000 non-null int64\n",
      "pay_0                         30000 non-null int64\n",
      "pay_2                         30000 non-null int64\n",
      "pay_3                         30000 non-null int64\n",
      "pay_4                         30000 non-null int64\n",
      "pay_5                         30000 non-null int64\n",
      "pay_6                         30000 non-null int64\n",
      "bill_amt1                     30000 non-null int64\n",
      "bill_amt2                     30000 non-null int64\n",
      "bill_amt3                     30000 non-null int64\n",
      "bill_amt4                     30000 non-null int64\n",
      "bill_amt5                     30000 non-null int64\n",
      "bill_amt6                     30000 non-null int64\n",
      "pay_amt1                      30000 non-null int64\n",
      "pay_amt2                      30000 non-null int64\n",
      "pay_amt3                      30000 non-null int64\n",
      "pay_amt4                      30000 non-null int64\n",
      "pay_amt5                      30000 non-null int64\n",
      "pay_amt6                      30000 non-null int64\n",
      "default_payment_next_month    30000 non-null int64\n",
      "dtypes: int64(22), object(3)\n",
      "memory usage: 5.7+ MB\n"
     ]
    }
   ],
   "source": [
    "df.info()"
   ]
  },
  {
   "cell_type": "code",
   "execution_count": 28,
   "metadata": {
    "colab": {
     "base_uri": "https://localhost:8080/",
     "height": 304
    },
    "id": "qRiL3oTzdZ5x",
    "outputId": "45ba9a89-a8b3-4e3e-cb19-93781ce27647"
   },
   "outputs": [
    {
     "data": {
      "text/html": [
       "<div>\n",
       "<style scoped>\n",
       "    .dataframe tbody tr th:only-of-type {\n",
       "        vertical-align: middle;\n",
       "    }\n",
       "\n",
       "    .dataframe tbody tr th {\n",
       "        vertical-align: top;\n",
       "    }\n",
       "\n",
       "    .dataframe thead th {\n",
       "        text-align: right;\n",
       "    }\n",
       "</style>\n",
       "<table border=\"1\" class=\"dataframe\">\n",
       "  <thead>\n",
       "    <tr style=\"text-align: right;\">\n",
       "      <th></th>\n",
       "      <th>id</th>\n",
       "      <th>limit_bal</th>\n",
       "      <th>age</th>\n",
       "      <th>pay_0</th>\n",
       "      <th>pay_2</th>\n",
       "      <th>pay_3</th>\n",
       "      <th>pay_4</th>\n",
       "      <th>pay_5</th>\n",
       "      <th>pay_6</th>\n",
       "      <th>bill_amt1</th>\n",
       "      <th>...</th>\n",
       "      <th>bill_amt4</th>\n",
       "      <th>bill_amt5</th>\n",
       "      <th>bill_amt6</th>\n",
       "      <th>pay_amt1</th>\n",
       "      <th>pay_amt2</th>\n",
       "      <th>pay_amt3</th>\n",
       "      <th>pay_amt4</th>\n",
       "      <th>pay_amt5</th>\n",
       "      <th>pay_amt6</th>\n",
       "      <th>default_payment_next_month</th>\n",
       "    </tr>\n",
       "  </thead>\n",
       "  <tbody>\n",
       "    <tr>\n",
       "      <td>count</td>\n",
       "      <td>30000.000000</td>\n",
       "      <td>30000.000000</td>\n",
       "      <td>30000.000000</td>\n",
       "      <td>30000.000000</td>\n",
       "      <td>30000.000000</td>\n",
       "      <td>30000.000000</td>\n",
       "      <td>30000.000000</td>\n",
       "      <td>30000.000000</td>\n",
       "      <td>30000.000000</td>\n",
       "      <td>30000.000000</td>\n",
       "      <td>...</td>\n",
       "      <td>30000.000000</td>\n",
       "      <td>30000.000000</td>\n",
       "      <td>30000.000000</td>\n",
       "      <td>30000.000000</td>\n",
       "      <td>3.000000e+04</td>\n",
       "      <td>30000.00000</td>\n",
       "      <td>30000.000000</td>\n",
       "      <td>30000.000000</td>\n",
       "      <td>30000.000000</td>\n",
       "      <td>30000.000000</td>\n",
       "    </tr>\n",
       "    <tr>\n",
       "      <td>mean</td>\n",
       "      <td>15000.500000</td>\n",
       "      <td>167484.322667</td>\n",
       "      <td>35.518833</td>\n",
       "      <td>-0.016700</td>\n",
       "      <td>-0.133767</td>\n",
       "      <td>-0.166200</td>\n",
       "      <td>-0.220667</td>\n",
       "      <td>-0.266200</td>\n",
       "      <td>-0.291100</td>\n",
       "      <td>51223.330900</td>\n",
       "      <td>...</td>\n",
       "      <td>43262.948967</td>\n",
       "      <td>40311.400967</td>\n",
       "      <td>38871.760400</td>\n",
       "      <td>5663.580500</td>\n",
       "      <td>5.921163e+03</td>\n",
       "      <td>5225.68150</td>\n",
       "      <td>4826.076867</td>\n",
       "      <td>4799.387633</td>\n",
       "      <td>5215.502567</td>\n",
       "      <td>0.221200</td>\n",
       "    </tr>\n",
       "    <tr>\n",
       "      <td>std</td>\n",
       "      <td>8660.398374</td>\n",
       "      <td>129747.661567</td>\n",
       "      <td>9.528019</td>\n",
       "      <td>1.123802</td>\n",
       "      <td>1.197186</td>\n",
       "      <td>1.196868</td>\n",
       "      <td>1.169139</td>\n",
       "      <td>1.133187</td>\n",
       "      <td>1.149988</td>\n",
       "      <td>73635.860576</td>\n",
       "      <td>...</td>\n",
       "      <td>64332.856134</td>\n",
       "      <td>60797.155770</td>\n",
       "      <td>59554.107537</td>\n",
       "      <td>16563.280354</td>\n",
       "      <td>2.304087e+04</td>\n",
       "      <td>17606.96147</td>\n",
       "      <td>15666.159744</td>\n",
       "      <td>15278.305679</td>\n",
       "      <td>17777.465775</td>\n",
       "      <td>0.415062</td>\n",
       "    </tr>\n",
       "    <tr>\n",
       "      <td>min</td>\n",
       "      <td>1.000000</td>\n",
       "      <td>10000.000000</td>\n",
       "      <td>21.000000</td>\n",
       "      <td>-2.000000</td>\n",
       "      <td>-2.000000</td>\n",
       "      <td>-2.000000</td>\n",
       "      <td>-2.000000</td>\n",
       "      <td>-2.000000</td>\n",
       "      <td>-2.000000</td>\n",
       "      <td>-165580.000000</td>\n",
       "      <td>...</td>\n",
       "      <td>-170000.000000</td>\n",
       "      <td>-81334.000000</td>\n",
       "      <td>-339603.000000</td>\n",
       "      <td>0.000000</td>\n",
       "      <td>0.000000e+00</td>\n",
       "      <td>0.00000</td>\n",
       "      <td>0.000000</td>\n",
       "      <td>0.000000</td>\n",
       "      <td>0.000000</td>\n",
       "      <td>0.000000</td>\n",
       "    </tr>\n",
       "    <tr>\n",
       "      <td>25%</td>\n",
       "      <td>7500.750000</td>\n",
       "      <td>50000.000000</td>\n",
       "      <td>28.000000</td>\n",
       "      <td>-1.000000</td>\n",
       "      <td>-1.000000</td>\n",
       "      <td>-1.000000</td>\n",
       "      <td>-1.000000</td>\n",
       "      <td>-1.000000</td>\n",
       "      <td>-1.000000</td>\n",
       "      <td>3558.750000</td>\n",
       "      <td>...</td>\n",
       "      <td>2326.750000</td>\n",
       "      <td>1763.000000</td>\n",
       "      <td>1256.000000</td>\n",
       "      <td>1000.000000</td>\n",
       "      <td>8.330000e+02</td>\n",
       "      <td>390.00000</td>\n",
       "      <td>296.000000</td>\n",
       "      <td>252.500000</td>\n",
       "      <td>117.750000</td>\n",
       "      <td>0.000000</td>\n",
       "    </tr>\n",
       "    <tr>\n",
       "      <td>50%</td>\n",
       "      <td>15000.500000</td>\n",
       "      <td>140000.000000</td>\n",
       "      <td>34.000000</td>\n",
       "      <td>0.000000</td>\n",
       "      <td>0.000000</td>\n",
       "      <td>0.000000</td>\n",
       "      <td>0.000000</td>\n",
       "      <td>0.000000</td>\n",
       "      <td>0.000000</td>\n",
       "      <td>22381.500000</td>\n",
       "      <td>...</td>\n",
       "      <td>19052.000000</td>\n",
       "      <td>18104.500000</td>\n",
       "      <td>17071.000000</td>\n",
       "      <td>2100.000000</td>\n",
       "      <td>2.009000e+03</td>\n",
       "      <td>1800.00000</td>\n",
       "      <td>1500.000000</td>\n",
       "      <td>1500.000000</td>\n",
       "      <td>1500.000000</td>\n",
       "      <td>0.000000</td>\n",
       "    </tr>\n",
       "    <tr>\n",
       "      <td>75%</td>\n",
       "      <td>22500.250000</td>\n",
       "      <td>240000.000000</td>\n",
       "      <td>41.000000</td>\n",
       "      <td>0.000000</td>\n",
       "      <td>0.000000</td>\n",
       "      <td>0.000000</td>\n",
       "      <td>0.000000</td>\n",
       "      <td>0.000000</td>\n",
       "      <td>0.000000</td>\n",
       "      <td>67091.000000</td>\n",
       "      <td>...</td>\n",
       "      <td>54506.000000</td>\n",
       "      <td>50190.500000</td>\n",
       "      <td>49198.250000</td>\n",
       "      <td>5006.000000</td>\n",
       "      <td>5.000000e+03</td>\n",
       "      <td>4505.00000</td>\n",
       "      <td>4013.250000</td>\n",
       "      <td>4031.500000</td>\n",
       "      <td>4000.000000</td>\n",
       "      <td>0.000000</td>\n",
       "    </tr>\n",
       "    <tr>\n",
       "      <td>max</td>\n",
       "      <td>30000.000000</td>\n",
       "      <td>1000000.000000</td>\n",
       "      <td>267.000000</td>\n",
       "      <td>8.000000</td>\n",
       "      <td>8.000000</td>\n",
       "      <td>8.000000</td>\n",
       "      <td>8.000000</td>\n",
       "      <td>8.000000</td>\n",
       "      <td>8.000000</td>\n",
       "      <td>964511.000000</td>\n",
       "      <td>...</td>\n",
       "      <td>891586.000000</td>\n",
       "      <td>927171.000000</td>\n",
       "      <td>961664.000000</td>\n",
       "      <td>873552.000000</td>\n",
       "      <td>1.684259e+06</td>\n",
       "      <td>896040.00000</td>\n",
       "      <td>621000.000000</td>\n",
       "      <td>426529.000000</td>\n",
       "      <td>528666.000000</td>\n",
       "      <td>1.000000</td>\n",
       "    </tr>\n",
       "  </tbody>\n",
       "</table>\n",
       "<p>8 rows × 22 columns</p>\n",
       "</div>"
      ],
      "text/plain": [
       "                 id       limit_bal           age         pay_0         pay_2  \\\n",
       "count  30000.000000    30000.000000  30000.000000  30000.000000  30000.000000   \n",
       "mean   15000.500000   167484.322667     35.518833     -0.016700     -0.133767   \n",
       "std     8660.398374   129747.661567      9.528019      1.123802      1.197186   \n",
       "min        1.000000    10000.000000     21.000000     -2.000000     -2.000000   \n",
       "25%     7500.750000    50000.000000     28.000000     -1.000000     -1.000000   \n",
       "50%    15000.500000   140000.000000     34.000000      0.000000      0.000000   \n",
       "75%    22500.250000   240000.000000     41.000000      0.000000      0.000000   \n",
       "max    30000.000000  1000000.000000    267.000000      8.000000      8.000000   \n",
       "\n",
       "              pay_3         pay_4         pay_5         pay_6      bill_amt1  \\\n",
       "count  30000.000000  30000.000000  30000.000000  30000.000000   30000.000000   \n",
       "mean      -0.166200     -0.220667     -0.266200     -0.291100   51223.330900   \n",
       "std        1.196868      1.169139      1.133187      1.149988   73635.860576   \n",
       "min       -2.000000     -2.000000     -2.000000     -2.000000 -165580.000000   \n",
       "25%       -1.000000     -1.000000     -1.000000     -1.000000    3558.750000   \n",
       "50%        0.000000      0.000000      0.000000      0.000000   22381.500000   \n",
       "75%        0.000000      0.000000      0.000000      0.000000   67091.000000   \n",
       "max        8.000000      8.000000      8.000000      8.000000  964511.000000   \n",
       "\n",
       "       ...      bill_amt4      bill_amt5      bill_amt6       pay_amt1  \\\n",
       "count  ...   30000.000000   30000.000000   30000.000000   30000.000000   \n",
       "mean   ...   43262.948967   40311.400967   38871.760400    5663.580500   \n",
       "std    ...   64332.856134   60797.155770   59554.107537   16563.280354   \n",
       "min    ... -170000.000000  -81334.000000 -339603.000000       0.000000   \n",
       "25%    ...    2326.750000    1763.000000    1256.000000    1000.000000   \n",
       "50%    ...   19052.000000   18104.500000   17071.000000    2100.000000   \n",
       "75%    ...   54506.000000   50190.500000   49198.250000    5006.000000   \n",
       "max    ...  891586.000000  927171.000000  961664.000000  873552.000000   \n",
       "\n",
       "           pay_amt2      pay_amt3       pay_amt4       pay_amt5  \\\n",
       "count  3.000000e+04   30000.00000   30000.000000   30000.000000   \n",
       "mean   5.921163e+03    5225.68150    4826.076867    4799.387633   \n",
       "std    2.304087e+04   17606.96147   15666.159744   15278.305679   \n",
       "min    0.000000e+00       0.00000       0.000000       0.000000   \n",
       "25%    8.330000e+02     390.00000     296.000000     252.500000   \n",
       "50%    2.009000e+03    1800.00000    1500.000000    1500.000000   \n",
       "75%    5.000000e+03    4505.00000    4013.250000    4031.500000   \n",
       "max    1.684259e+06  896040.00000  621000.000000  426529.000000   \n",
       "\n",
       "            pay_amt6  default_payment_next_month  \n",
       "count   30000.000000                30000.000000  \n",
       "mean     5215.502567                    0.221200  \n",
       "std     17777.465775                    0.415062  \n",
       "min         0.000000                    0.000000  \n",
       "25%       117.750000                    0.000000  \n",
       "50%      1500.000000                    0.000000  \n",
       "75%      4000.000000                    0.000000  \n",
       "max    528666.000000                    1.000000  \n",
       "\n",
       "[8 rows x 22 columns]"
      ]
     },
     "execution_count": 28,
     "metadata": {},
     "output_type": "execute_result"
    }
   ],
   "source": [
    "df.describe()"
   ]
  },
  {
   "cell_type": "markdown",
   "metadata": {
    "id": "e3MR1DpGdZ5y"
   },
   "source": [
    "Also, there are outliers in age column."
   ]
  },
  {
   "cell_type": "code",
   "execution_count": 29,
   "metadata": {
    "colab": {
     "base_uri": "https://localhost:8080/",
     "height": 268
    },
    "id": "DnW7QJH2dZ5y",
    "outputId": "0c5c3cd8-c698-4d6a-f1fe-6fbcf27d38ec"
   },
   "outputs": [
    {
     "data": {
      "image/png": "[encoded data removed]",
      "text/plain": [
       "<Figure size 432x288 with 1 Axes>"
      ]
     },
     "metadata": {
      "needs_background": "light"
     },
     "output_type": "display_data"
    }
   ],
   "source": [
    "df.age.hist(bins=150);"
   ]
  },
  {
   "cell_type": "code",
   "execution_count": 30,
   "metadata": {
    "colab": {
     "base_uri": "https://localhost:8080/",
     "height": 301
    },
    "id": "fHbKdbjudZ5y",
    "outputId": "e3cc7ea6-2b73-4c4a-9d52-013caba6c8cd"
   },
   "outputs": [
    {
     "data": {
      "image/png": "[encoded data removed]",
      "text/plain": [
       "<Figure size 432x288 with 1 Axes>"
      ]
     },
     "metadata": {
      "needs_background": "light"
     },
     "output_type": "display_data"
    }
   ],
   "source": [
    "plt.boxplot(df.age);\n",
    "plt.title('Age of Clients')\n",
    "plt.xlabel('Age');\n",
    "plt.ylabel('Age Value');"
   ]
  },
  {
   "cell_type": "markdown",
   "metadata": {
    "id": "SwEIEjDydZ5y"
   },
   "source": [
    "As shown in the box plot, there are outlier values which we will replace with the mean value."
   ]
  },
  {
   "cell_type": "code",
   "execution_count": 31,
   "metadata": {
    "id": "rIUN1jxJdZ5y"
   },
   "outputs": [],
   "source": [
    "# Replacing ages above 100 with the mean value\n",
    "df.age = df.age.apply(lambda x : 35 if x > 100 else x)"
   ]
  },
  {
   "cell_type": "code",
   "execution_count": 32,
   "metadata": {
    "colab": {
     "base_uri": "https://localhost:8080/"
    },
    "id": "y8U3aft1dZ5y",
    "outputId": "1ed813f9-63ce-4fcf-a307-e757c60a05e2"
   },
   "outputs": [
    {
     "data": {
      "text/plain": [
       "count    30000.000000\n",
       "mean        35.483767\n",
       "std          9.214986\n",
       "min         21.000000\n",
       "25%         28.000000\n",
       "50%         34.000000\n",
       "75%         41.000000\n",
       "max         79.000000\n",
       "Name: age, dtype: float64"
      ]
     },
     "execution_count": 32,
     "metadata": {},
     "output_type": "execute_result"
    }
   ],
   "source": [
    "# Checking the values after we removed the outliers\n",
    "df.age.describe()"
   ]
  },
  {
   "cell_type": "markdown",
   "metadata": {
    "id": "-sez6SHbdZ5z"
   },
   "source": [
    "### Feature Engineering"
   ]
  },
  {
   "cell_type": "markdown",
   "metadata": {
    "id": "5TCgeV5adZ5z"
   },
   "source": [
    "In this section, we will adjust the features to be used by the model."
   ]
  },
  {
   "cell_type": "code",
   "execution_count": 33,
   "metadata": {
    "colab": {
     "base_uri": "https://localhost:8080/",
     "height": 215
    },
    "id": "zn6J5jl2dZ5z",
    "outputId": "63d8d11a-44d9-436f-e582-9b2faf9b32e1"
   },
   "outputs": [
    {
     "data": {
      "text/html": [
       "<div>\n",
       "<style scoped>\n",
       "    .dataframe tbody tr th:only-of-type {\n",
       "        vertical-align: middle;\n",
       "    }\n",
       "\n",
       "    .dataframe tbody tr th {\n",
       "        vertical-align: top;\n",
       "    }\n",
       "\n",
       "    .dataframe thead th {\n",
       "        text-align: right;\n",
       "    }\n",
       "</style>\n",
       "<table border=\"1\" class=\"dataframe\">\n",
       "  <thead>\n",
       "    <tr style=\"text-align: right;\">\n",
       "      <th></th>\n",
       "      <th>id</th>\n",
       "      <th>limit_bal</th>\n",
       "      <th>sex</th>\n",
       "      <th>education</th>\n",
       "      <th>marriage</th>\n",
       "      <th>age</th>\n",
       "      <th>pay_0</th>\n",
       "      <th>pay_2</th>\n",
       "      <th>pay_3</th>\n",
       "      <th>pay_4</th>\n",
       "      <th>...</th>\n",
       "      <th>bill_amt4</th>\n",
       "      <th>bill_amt5</th>\n",
       "      <th>bill_amt6</th>\n",
       "      <th>pay_amt1</th>\n",
       "      <th>pay_amt2</th>\n",
       "      <th>pay_amt3</th>\n",
       "      <th>pay_amt4</th>\n",
       "      <th>pay_amt5</th>\n",
       "      <th>pay_amt6</th>\n",
       "      <th>default_payment_next_month</th>\n",
       "    </tr>\n",
       "  </thead>\n",
       "  <tbody>\n",
       "    <tr>\n",
       "      <td>0</td>\n",
       "      <td>1</td>\n",
       "      <td>20000</td>\n",
       "      <td>female</td>\n",
       "      <td>university</td>\n",
       "      <td>married</td>\n",
       "      <td>24</td>\n",
       "      <td>2</td>\n",
       "      <td>2</td>\n",
       "      <td>-1</td>\n",
       "      <td>-1</td>\n",
       "      <td>...</td>\n",
       "      <td>0</td>\n",
       "      <td>0</td>\n",
       "      <td>0</td>\n",
       "      <td>0</td>\n",
       "      <td>689</td>\n",
       "      <td>0</td>\n",
       "      <td>0</td>\n",
       "      <td>0</td>\n",
       "      <td>0</td>\n",
       "      <td>1</td>\n",
       "    </tr>\n",
       "    <tr>\n",
       "      <td>1</td>\n",
       "      <td>2</td>\n",
       "      <td>120000</td>\n",
       "      <td>female</td>\n",
       "      <td>university</td>\n",
       "      <td>single</td>\n",
       "      <td>26</td>\n",
       "      <td>-1</td>\n",
       "      <td>2</td>\n",
       "      <td>0</td>\n",
       "      <td>0</td>\n",
       "      <td>...</td>\n",
       "      <td>3272</td>\n",
       "      <td>3455</td>\n",
       "      <td>3261</td>\n",
       "      <td>0</td>\n",
       "      <td>1000</td>\n",
       "      <td>1000</td>\n",
       "      <td>1000</td>\n",
       "      <td>0</td>\n",
       "      <td>2000</td>\n",
       "      <td>1</td>\n",
       "    </tr>\n",
       "    <tr>\n",
       "      <td>2</td>\n",
       "      <td>3</td>\n",
       "      <td>90000</td>\n",
       "      <td>female</td>\n",
       "      <td>university</td>\n",
       "      <td>single</td>\n",
       "      <td>34</td>\n",
       "      <td>0</td>\n",
       "      <td>0</td>\n",
       "      <td>0</td>\n",
       "      <td>0</td>\n",
       "      <td>...</td>\n",
       "      <td>14331</td>\n",
       "      <td>14948</td>\n",
       "      <td>15549</td>\n",
       "      <td>1518</td>\n",
       "      <td>1500</td>\n",
       "      <td>1000</td>\n",
       "      <td>1000</td>\n",
       "      <td>1000</td>\n",
       "      <td>5000</td>\n",
       "      <td>0</td>\n",
       "    </tr>\n",
       "    <tr>\n",
       "      <td>3</td>\n",
       "      <td>4</td>\n",
       "      <td>50000</td>\n",
       "      <td>female</td>\n",
       "      <td>university</td>\n",
       "      <td>married</td>\n",
       "      <td>37</td>\n",
       "      <td>0</td>\n",
       "      <td>0</td>\n",
       "      <td>0</td>\n",
       "      <td>0</td>\n",
       "      <td>...</td>\n",
       "      <td>28314</td>\n",
       "      <td>28959</td>\n",
       "      <td>29547</td>\n",
       "      <td>2000</td>\n",
       "      <td>2019</td>\n",
       "      <td>1200</td>\n",
       "      <td>1100</td>\n",
       "      <td>1069</td>\n",
       "      <td>1000</td>\n",
       "      <td>0</td>\n",
       "    </tr>\n",
       "    <tr>\n",
       "      <td>4</td>\n",
       "      <td>5</td>\n",
       "      <td>50000</td>\n",
       "      <td>male</td>\n",
       "      <td>university</td>\n",
       "      <td>married</td>\n",
       "      <td>57</td>\n",
       "      <td>-1</td>\n",
       "      <td>0</td>\n",
       "      <td>-1</td>\n",
       "      <td>0</td>\n",
       "      <td>...</td>\n",
       "      <td>20940</td>\n",
       "      <td>19146</td>\n",
       "      <td>19131</td>\n",
       "      <td>2000</td>\n",
       "      <td>36681</td>\n",
       "      <td>10000</td>\n",
       "      <td>9000</td>\n",
       "      <td>689</td>\n",
       "      <td>679</td>\n",
       "      <td>0</td>\n",
       "    </tr>\n",
       "  </tbody>\n",
       "</table>\n",
       "<p>5 rows × 25 columns</p>\n",
       "</div>"
      ],
      "text/plain": [
       "   id  limit_bal     sex   education marriage  age  pay_0  pay_2  pay_3  \\\n",
       "0   1      20000  female  university  married   24      2      2     -1   \n",
       "1   2     120000  female  university   single   26     -1      2      0   \n",
       "2   3      90000  female  university   single   34      0      0      0   \n",
       "3   4      50000  female  university  married   37      0      0      0   \n",
       "4   5      50000    male  university  married   57     -1      0     -1   \n",
       "\n",
       "   pay_4  ...  bill_amt4  bill_amt5  bill_amt6  pay_amt1  pay_amt2  pay_amt3  \\\n",
       "0     -1  ...          0          0          0         0       689         0   \n",
       "1      0  ...       3272       3455       3261         0      1000      1000   \n",
       "2      0  ...      14331      14948      15549      1518      1500      1000   \n",
       "3      0  ...      28314      28959      29547      2000      2019      1200   \n",
       "4      0  ...      20940      19146      19131      2000     36681     10000   \n",
       "\n",
       "   pay_amt4  pay_amt5  pay_amt6  default_payment_next_month  \n",
       "0         0         0         0                           1  \n",
       "1      1000         0      2000                           1  \n",
       "2      1000      1000      5000                           0  \n",
       "3      1100      1069      1000                           0  \n",
       "4      9000       689       679                           0  \n",
       "\n",
       "[5 rows x 25 columns]"
      ]
     },
     "execution_count": 33,
     "metadata": {},
     "output_type": "execute_result"
    }
   ],
   "source": [
    "df.head()"
   ]
  },
  {
   "cell_type": "markdown",
   "metadata": {
    "id": "TkzS7haydZ5z"
   },
   "source": [
    "We will drop the id column"
   ]
  },
  {
   "cell_type": "code",
   "execution_count": 34,
   "metadata": {
    "id": "8UYM780VdZ5z"
   },
   "outputs": [],
   "source": [
    "# Dropping id column\n",
    "# df.drop('id', axis=1, inplace=True)"
   ]
  },
  {
   "cell_type": "markdown",
   "metadata": {
    "id": "FUD_IwGXdZ5z"
   },
   "source": [
    "Now we will normalize the numeric columns in our dataset so that all features lie in the same range."
   ]
  },
  {
   "cell_type": "code",
   "execution_count": 35,
   "metadata": {
    "id": "IRnhgHDldZ5z"
   },
   "outputs": [],
   "source": [
    "# Using min max normalization method\n",
    "def normalize(column):\n",
    "    max_val = column.max()\n",
    "    min_val = column.min()\n",
    "    return column.apply(lambda x : (((x - min_val) / (max_val - min_val)) * (1 - 0)) + 0)"
   ]
  },
  {
   "cell_type": "code",
   "execution_count": 36,
   "metadata": {
    "id": "RdTsdodYdZ50"
   },
   "outputs": [],
   "source": [
    "df.limit_bal = normalize(df.limit_bal)\n",
    "df.pay_0 = normalize(df.pay_0)\n",
    "df.pay_2 = normalize(df.pay_2)\n",
    "df.pay_3 = normalize(df.pay_3)\n",
    "df.pay_4 = normalize(df.pay_4)\n",
    "df.pay_5 = normalize(df.pay_5)\n",
    "df.pay_6 = normalize(df.pay_6)\n",
    "df.bill_amt1 = normalize(df.bill_amt1)\n",
    "df.bill_amt2 = normalize(df.bill_amt2)\n",
    "df.bill_amt3 = normalize(df.bill_amt3)\n",
    "df.bill_amt4 = normalize(df.bill_amt4)\n",
    "df.bill_amt5 = normalize(df.bill_amt5)\n",
    "df.bill_amt6 = normalize(df.bill_amt6)\n",
    "df.pay_amt1 = normalize(df.pay_amt1)\n",
    "df.pay_amt2 = normalize(df.pay_amt2)\n",
    "df.pay_amt3 = normalize(df.pay_amt3)\n",
    "df.pay_amt4 = normalize(df.pay_amt4)\n",
    "df.pay_amt5 = normalize(df.pay_amt5)\n",
    "df.pay_amt6 = normalize(df.pay_amt6)"
   ]
  },
  {
   "cell_type": "code",
   "execution_count": 37,
   "metadata": {
    "colab": {
     "base_uri": "https://localhost:8080/",
     "height": 304
    },
    "id": "5v3WoZDTdZ50",
    "outputId": "532480dc-faf9-4c3a-cef3-82ee889a0fa4"
   },
   "outputs": [
    {
     "data": {
      "text/html": [
       "<div>\n",
       "<style scoped>\n",
       "    .dataframe tbody tr th:only-of-type {\n",
       "        vertical-align: middle;\n",
       "    }\n",
       "\n",
       "    .dataframe tbody tr th {\n",
       "        vertical-align: top;\n",
       "    }\n",
       "\n",
       "    .dataframe thead th {\n",
       "        text-align: right;\n",
       "    }\n",
       "</style>\n",
       "<table border=\"1\" class=\"dataframe\">\n",
       "  <thead>\n",
       "    <tr style=\"text-align: right;\">\n",
       "      <th></th>\n",
       "      <th>id</th>\n",
       "      <th>limit_bal</th>\n",
       "      <th>age</th>\n",
       "      <th>pay_0</th>\n",
       "      <th>pay_2</th>\n",
       "      <th>pay_3</th>\n",
       "      <th>pay_4</th>\n",
       "      <th>pay_5</th>\n",
       "      <th>pay_6</th>\n",
       "      <th>bill_amt1</th>\n",
       "      <th>...</th>\n",
       "      <th>bill_amt4</th>\n",
       "      <th>bill_amt5</th>\n",
       "      <th>bill_amt6</th>\n",
       "      <th>pay_amt1</th>\n",
       "      <th>pay_amt2</th>\n",
       "      <th>pay_amt3</th>\n",
       "      <th>pay_amt4</th>\n",
       "      <th>pay_amt5</th>\n",
       "      <th>pay_amt6</th>\n",
       "      <th>default_payment_next_month</th>\n",
       "    </tr>\n",
       "  </thead>\n",
       "  <tbody>\n",
       "    <tr>\n",
       "      <td>count</td>\n",
       "      <td>30000.000000</td>\n",
       "      <td>30000.000000</td>\n",
       "      <td>30000.000000</td>\n",
       "      <td>30000.00000</td>\n",
       "      <td>30000.000000</td>\n",
       "      <td>30000.000000</td>\n",
       "      <td>30000.000000</td>\n",
       "      <td>30000.000000</td>\n",
       "      <td>30000.000000</td>\n",
       "      <td>30000.000000</td>\n",
       "      <td>...</td>\n",
       "      <td>30000.000000</td>\n",
       "      <td>30000.000000</td>\n",
       "      <td>30000.000000</td>\n",
       "      <td>30000.000000</td>\n",
       "      <td>30000.000000</td>\n",
       "      <td>30000.000000</td>\n",
       "      <td>30000.000000</td>\n",
       "      <td>30000.000000</td>\n",
       "      <td>30000.000000</td>\n",
       "      <td>30000.000000</td>\n",
       "    </tr>\n",
       "    <tr>\n",
       "      <td>mean</td>\n",
       "      <td>15000.500000</td>\n",
       "      <td>0.159075</td>\n",
       "      <td>35.483767</td>\n",
       "      <td>0.19833</td>\n",
       "      <td>0.186623</td>\n",
       "      <td>0.183380</td>\n",
       "      <td>0.177933</td>\n",
       "      <td>0.173380</td>\n",
       "      <td>0.170890</td>\n",
       "      <td>0.191846</td>\n",
       "      <td>...</td>\n",
       "      <td>0.200891</td>\n",
       "      <td>0.120620</td>\n",
       "      <td>0.290851</td>\n",
       "      <td>0.006483</td>\n",
       "      <td>0.003516</td>\n",
       "      <td>0.005832</td>\n",
       "      <td>0.007771</td>\n",
       "      <td>0.011252</td>\n",
       "      <td>0.009865</td>\n",
       "      <td>0.221200</td>\n",
       "    </tr>\n",
       "    <tr>\n",
       "      <td>std</td>\n",
       "      <td>8660.398374</td>\n",
       "      <td>0.131058</td>\n",
       "      <td>9.214986</td>\n",
       "      <td>0.11238</td>\n",
       "      <td>0.119719</td>\n",
       "      <td>0.119687</td>\n",
       "      <td>0.116914</td>\n",
       "      <td>0.113319</td>\n",
       "      <td>0.114999</td>\n",
       "      <td>0.065159</td>\n",
       "      <td>...</td>\n",
       "      <td>0.060601</td>\n",
       "      <td>0.060284</td>\n",
       "      <td>0.045766</td>\n",
       "      <td>0.018961</td>\n",
       "      <td>0.013680</td>\n",
       "      <td>0.019650</td>\n",
       "      <td>0.025227</td>\n",
       "      <td>0.035820</td>\n",
       "      <td>0.033627</td>\n",
       "      <td>0.415062</td>\n",
       "    </tr>\n",
       "    <tr>\n",
       "      <td>min</td>\n",
       "      <td>1.000000</td>\n",
       "      <td>0.000000</td>\n",
       "      <td>21.000000</td>\n",
       "      <td>0.00000</td>\n",
       "      <td>0.000000</td>\n",
       "      <td>0.000000</td>\n",
       "      <td>0.000000</td>\n",
       "      <td>0.000000</td>\n",
       "      <td>0.000000</td>\n",
       "      <td>0.000000</td>\n",
       "      <td>...</td>\n",
       "      <td>0.000000</td>\n",
       "      <td>0.000000</td>\n",
       "      <td>0.000000</td>\n",
       "      <td>0.000000</td>\n",
       "      <td>0.000000</td>\n",
       "      <td>0.000000</td>\n",
       "      <td>0.000000</td>\n",
       "      <td>0.000000</td>\n",
       "      <td>0.000000</td>\n",
       "      <td>0.000000</td>\n",
       "    </tr>\n",
       "    <tr>\n",
       "      <td>25%</td>\n",
       "      <td>7500.750000</td>\n",
       "      <td>0.040404</td>\n",
       "      <td>28.000000</td>\n",
       "      <td>0.10000</td>\n",
       "      <td>0.100000</td>\n",
       "      <td>0.100000</td>\n",
       "      <td>0.100000</td>\n",
       "      <td>0.100000</td>\n",
       "      <td>0.100000</td>\n",
       "      <td>0.149668</td>\n",
       "      <td>...</td>\n",
       "      <td>0.162330</td>\n",
       "      <td>0.082396</td>\n",
       "      <td>0.261944</td>\n",
       "      <td>0.001145</td>\n",
       "      <td>0.000495</td>\n",
       "      <td>0.000435</td>\n",
       "      <td>0.000477</td>\n",
       "      <td>0.000592</td>\n",
       "      <td>0.000223</td>\n",
       "      <td>0.000000</td>\n",
       "    </tr>\n",
       "    <tr>\n",
       "      <td>50%</td>\n",
       "      <td>15000.500000</td>\n",
       "      <td>0.131313</td>\n",
       "      <td>34.000000</td>\n",
       "      <td>0.20000</td>\n",
       "      <td>0.200000</td>\n",
       "      <td>0.200000</td>\n",
       "      <td>0.200000</td>\n",
       "      <td>0.200000</td>\n",
       "      <td>0.200000</td>\n",
       "      <td>0.166324</td>\n",
       "      <td>...</td>\n",
       "      <td>0.178084</td>\n",
       "      <td>0.098600</td>\n",
       "      <td>0.274097</td>\n",
       "      <td>0.002404</td>\n",
       "      <td>0.001193</td>\n",
       "      <td>0.002009</td>\n",
       "      <td>0.002415</td>\n",
       "      <td>0.003517</td>\n",
       "      <td>0.002837</td>\n",
       "      <td>0.000000</td>\n",
       "    </tr>\n",
       "    <tr>\n",
       "      <td>75%</td>\n",
       "      <td>22500.250000</td>\n",
       "      <td>0.232323</td>\n",
       "      <td>41.000000</td>\n",
       "      <td>0.20000</td>\n",
       "      <td>0.200000</td>\n",
       "      <td>0.200000</td>\n",
       "      <td>0.200000</td>\n",
       "      <td>0.200000</td>\n",
       "      <td>0.200000</td>\n",
       "      <td>0.205887</td>\n",
       "      <td>...</td>\n",
       "      <td>0.211482</td>\n",
       "      <td>0.130415</td>\n",
       "      <td>0.298787</td>\n",
       "      <td>0.005731</td>\n",
       "      <td>0.002969</td>\n",
       "      <td>0.005028</td>\n",
       "      <td>0.006463</td>\n",
       "      <td>0.009452</td>\n",
       "      <td>0.007566</td>\n",
       "      <td>0.000000</td>\n",
       "    </tr>\n",
       "    <tr>\n",
       "      <td>max</td>\n",
       "      <td>30000.000000</td>\n",
       "      <td>1.000000</td>\n",
       "      <td>79.000000</td>\n",
       "      <td>1.00000</td>\n",
       "      <td>1.000000</td>\n",
       "      <td>1.000000</td>\n",
       "      <td>1.000000</td>\n",
       "      <td>1.000000</td>\n",
       "      <td>1.000000</td>\n",
       "      <td>1.000000</td>\n",
       "      <td>...</td>\n",
       "      <td>1.000000</td>\n",
       "      <td>1.000000</td>\n",
       "      <td>1.000000</td>\n",
       "      <td>1.000000</td>\n",
       "      <td>1.000000</td>\n",
       "      <td>1.000000</td>\n",
       "      <td>1.000000</td>\n",
       "      <td>1.000000</td>\n",
       "      <td>1.000000</td>\n",
       "      <td>1.000000</td>\n",
       "    </tr>\n",
       "  </tbody>\n",
       "</table>\n",
       "<p>8 rows × 22 columns</p>\n",
       "</div>"
      ],
      "text/plain": [
       "                 id     limit_bal           age        pay_0         pay_2  \\\n",
       "count  30000.000000  30000.000000  30000.000000  30000.00000  30000.000000   \n",
       "mean   15000.500000      0.159075     35.483767      0.19833      0.186623   \n",
       "std     8660.398374      0.131058      9.214986      0.11238      0.119719   \n",
       "min        1.000000      0.000000     21.000000      0.00000      0.000000   \n",
       "25%     7500.750000      0.040404     28.000000      0.10000      0.100000   \n",
       "50%    15000.500000      0.131313     34.000000      0.20000      0.200000   \n",
       "75%    22500.250000      0.232323     41.000000      0.20000      0.200000   \n",
       "max    30000.000000      1.000000     79.000000      1.00000      1.000000   \n",
       "\n",
       "              pay_3         pay_4         pay_5         pay_6     bill_amt1  \\\n",
       "count  30000.000000  30000.000000  30000.000000  30000.000000  30000.000000   \n",
       "mean       0.183380      0.177933      0.173380      0.170890      0.191846   \n",
       "std        0.119687      0.116914      0.113319      0.114999      0.065159   \n",
       "min        0.000000      0.000000      0.000000      0.000000      0.000000   \n",
       "25%        0.100000      0.100000      0.100000      0.100000      0.149668   \n",
       "50%        0.200000      0.200000      0.200000      0.200000      0.166324   \n",
       "75%        0.200000      0.200000      0.200000      0.200000      0.205887   \n",
       "max        1.000000      1.000000      1.000000      1.000000      1.000000   \n",
       "\n",
       "       ...     bill_amt4     bill_amt5     bill_amt6      pay_amt1  \\\n",
       "count  ...  30000.000000  30000.000000  30000.000000  30000.000000   \n",
       "mean   ...      0.200891      0.120620      0.290851      0.006483   \n",
       "std    ...      0.060601      0.060284      0.045766      0.018961   \n",
       "min    ...      0.000000      0.000000      0.000000      0.000000   \n",
       "25%    ...      0.162330      0.082396      0.261944      0.001145   \n",
       "50%    ...      0.178084      0.098600      0.274097      0.002404   \n",
       "75%    ...      0.211482      0.130415      0.298787      0.005731   \n",
       "max    ...      1.000000      1.000000      1.000000      1.000000   \n",
       "\n",
       "           pay_amt2      pay_amt3      pay_amt4      pay_amt5      pay_amt6  \\\n",
       "count  30000.000000  30000.000000  30000.000000  30000.000000  30000.000000   \n",
       "mean       0.003516      0.005832      0.007771      0.011252      0.009865   \n",
       "std        0.013680      0.019650      0.025227      0.035820      0.033627   \n",
       "min        0.000000      0.000000      0.000000      0.000000      0.000000   \n",
       "25%        0.000495      0.000435      0.000477      0.000592      0.000223   \n",
       "50%        0.001193      0.002009      0.002415      0.003517      0.002837   \n",
       "75%        0.002969      0.005028      0.006463      0.009452      0.007566   \n",
       "max        1.000000      1.000000      1.000000      1.000000      1.000000   \n",
       "\n",
       "       default_payment_next_month  \n",
       "count                30000.000000  \n",
       "mean                     0.221200  \n",
       "std                      0.415062  \n",
       "min                      0.000000  \n",
       "25%                      0.000000  \n",
       "50%                      0.000000  \n",
       "75%                      0.000000  \n",
       "max                      1.000000  \n",
       "\n",
       "[8 rows x 22 columns]"
      ]
     },
     "execution_count": 37,
     "metadata": {},
     "output_type": "execute_result"
    }
   ],
   "source": [
    "df.describe()"
   ]
  },
  {
   "cell_type": "code",
   "execution_count": 38,
   "metadata": {
    "colab": {
     "base_uri": "https://localhost:8080/"
    },
    "id": "oUpGk7_CdZ50",
    "outputId": "103da042-5344-4bf2-f7fb-27027a1a5c67"
   },
   "outputs": [
    {
     "name": "stdout",
     "output_type": "stream",
     "text": [
      "<class 'pandas.core.frame.DataFrame'>\n",
      "RangeIndex: 30000 entries, 0 to 29999\n",
      "Data columns (total 25 columns):\n",
      "id                            30000 non-null int64\n",
      "limit_bal                     30000 non-null float64\n",
      "sex                           30000 non-null object\n",
      "education                     30000 non-null object\n",
      "marriage                      30000 non-null object\n",
      "age                           30000 non-null int64\n",
      "pay_0                         30000 non-null float64\n",
      "pay_2                         30000 non-null float64\n",
      "pay_3                         30000 non-null float64\n",
      "pay_4                         30000 non-null float64\n",
      "pay_5                         30000 non-null float64\n",
      "pay_6                         30000 non-null float64\n",
      "bill_amt1                     30000 non-null float64\n",
      "bill_amt2                     30000 non-null float64\n",
      "bill_amt3                     30000 non-null float64\n",
      "bill_amt4                     30000 non-null float64\n",
      "bill_amt5                     30000 non-null float64\n",
      "bill_amt6                     30000 non-null float64\n",
      "pay_amt1                      30000 non-null float64\n",
      "pay_amt2                      30000 non-null float64\n",
      "pay_amt3                      30000 non-null float64\n",
      "pay_amt4                      30000 non-null float64\n",
      "pay_amt5                      30000 non-null float64\n",
      "pay_amt6                      30000 non-null float64\n",
      "default_payment_next_month    30000 non-null int64\n",
      "dtypes: float64(19), int64(3), object(3)\n",
      "memory usage: 5.7+ MB\n"
     ]
    }
   ],
   "source": [
    "df.info()"
   ]
  },
  {
   "cell_type": "code",
   "execution_count": 39,
   "metadata": {
    "colab": {
     "base_uri": "https://localhost:8080/"
    },
    "id": "bVO51M25dZ50",
    "outputId": "75e8ca93-80c6-4dec-c41a-8d77d364c0a0"
   },
   "outputs": [
    {
     "data": {
      "text/plain": [
       "single     16341\n",
       "married    13659\n",
       "Name: marriage, dtype: int64"
      ]
     },
     "execution_count": 39,
     "metadata": {},
     "output_type": "execute_result"
    }
   ],
   "source": [
    "df.marriage.value_counts()"
   ]
  },
  {
   "cell_type": "markdown",
   "metadata": {
    "id": "P2aknC-_dZ50"
   },
   "source": [
    "We will perform one-hot encoding on categorical features."
   ]
  },
  {
   "cell_type": "code",
   "execution_count": 40,
   "metadata": {
    "id": "EOVXSducdZ50"
   },
   "outputs": [],
   "source": [
    "df_label = df[['id', 'default_payment_next_month']]\n",
    "df.drop('default_payment_next_month', axis=1, inplace=True)\n",
    "\n",
    "# One-hot encoding on categorical features\n",
    "df[['female', 'male']] = pd.get_dummies(df.sex).astype('int64')\n",
    "df[['graduate_school', 'high_school', 'other', 'university']] = pd.get_dummies(df.education).astype('int64')\n",
    "df[['married', 'single']] = pd.get_dummies(df.marriage).astype('int64')\n",
    "df.drop(['sex', 'education', 'marriage'], axis=1, inplace=True)\n",
    "\n",
    "# One-hot encoding on age\n",
    "df.age = df.age.apply(lambda x : 0 if x < 60 else 1)\n",
    "df[['under_60', 'over_60']] = pd.get_dummies(df.age).astype('int64')\n",
    "\n",
    "df = df.merge(df_label, on='id', copy=False)\n",
    "df.drop(['id', 'age'], axis=1, inplace=True)"
   ]
  },
  {
   "cell_type": "code",
   "execution_count": 41,
   "metadata": {
    "colab": {
     "base_uri": "https://localhost:8080/",
     "height": 215
    },
    "id": "Pac76nbidZ51",
    "outputId": "3248f2bb-14b6-4338-c717-64d6b588ee75",
    "scrolled": true
   },
   "outputs": [
    {
     "data": {
      "text/html": [
       "<div>\n",
       "<style scoped>\n",
       "    .dataframe tbody tr th:only-of-type {\n",
       "        vertical-align: middle;\n",
       "    }\n",
       "\n",
       "    .dataframe tbody tr th {\n",
       "        vertical-align: top;\n",
       "    }\n",
       "\n",
       "    .dataframe thead th {\n",
       "        text-align: right;\n",
       "    }\n",
       "</style>\n",
       "<table border=\"1\" class=\"dataframe\">\n",
       "  <thead>\n",
       "    <tr style=\"text-align: right;\">\n",
       "      <th></th>\n",
       "      <th>limit_bal</th>\n",
       "      <th>pay_0</th>\n",
       "      <th>pay_2</th>\n",
       "      <th>pay_3</th>\n",
       "      <th>pay_4</th>\n",
       "      <th>pay_5</th>\n",
       "      <th>pay_6</th>\n",
       "      <th>bill_amt1</th>\n",
       "      <th>bill_amt2</th>\n",
       "      <th>bill_amt3</th>\n",
       "      <th>...</th>\n",
       "      <th>male</th>\n",
       "      <th>graduate_school</th>\n",
       "      <th>high_school</th>\n",
       "      <th>other</th>\n",
       "      <th>university</th>\n",
       "      <th>married</th>\n",
       "      <th>single</th>\n",
       "      <th>under_60</th>\n",
       "      <th>over_60</th>\n",
       "      <th>default_payment_next_month</th>\n",
       "    </tr>\n",
       "  </thead>\n",
       "  <tbody>\n",
       "    <tr>\n",
       "      <td>0</td>\n",
       "      <td>0.010101</td>\n",
       "      <td>0.4</td>\n",
       "      <td>0.4</td>\n",
       "      <td>0.1</td>\n",
       "      <td>0.1</td>\n",
       "      <td>0.0</td>\n",
       "      <td>0.0</td>\n",
       "      <td>0.149982</td>\n",
       "      <td>0.069164</td>\n",
       "      <td>0.086723</td>\n",
       "      <td>...</td>\n",
       "      <td>0</td>\n",
       "      <td>0</td>\n",
       "      <td>0</td>\n",
       "      <td>0</td>\n",
       "      <td>1</td>\n",
       "      <td>1</td>\n",
       "      <td>0</td>\n",
       "      <td>1</td>\n",
       "      <td>0</td>\n",
       "      <td>1</td>\n",
       "    </tr>\n",
       "    <tr>\n",
       "      <td>1</td>\n",
       "      <td>0.111111</td>\n",
       "      <td>0.1</td>\n",
       "      <td>0.4</td>\n",
       "      <td>0.2</td>\n",
       "      <td>0.2</td>\n",
       "      <td>0.2</td>\n",
       "      <td>0.4</td>\n",
       "      <td>0.148892</td>\n",
       "      <td>0.067858</td>\n",
       "      <td>0.087817</td>\n",
       "      <td>...</td>\n",
       "      <td>0</td>\n",
       "      <td>0</td>\n",
       "      <td>0</td>\n",
       "      <td>0</td>\n",
       "      <td>1</td>\n",
       "      <td>0</td>\n",
       "      <td>1</td>\n",
       "      <td>1</td>\n",
       "      <td>0</td>\n",
       "      <td>1</td>\n",
       "    </tr>\n",
       "    <tr>\n",
       "      <td>2</td>\n",
       "      <td>0.080808</td>\n",
       "      <td>0.2</td>\n",
       "      <td>0.2</td>\n",
       "      <td>0.2</td>\n",
       "      <td>0.2</td>\n",
       "      <td>0.2</td>\n",
       "      <td>0.2</td>\n",
       "      <td>0.172392</td>\n",
       "      <td>0.079532</td>\n",
       "      <td>0.093789</td>\n",
       "      <td>...</td>\n",
       "      <td>0</td>\n",
       "      <td>0</td>\n",
       "      <td>0</td>\n",
       "      <td>0</td>\n",
       "      <td>1</td>\n",
       "      <td>0</td>\n",
       "      <td>1</td>\n",
       "      <td>1</td>\n",
       "      <td>0</td>\n",
       "      <td>0</td>\n",
       "    </tr>\n",
       "    <tr>\n",
       "      <td>3</td>\n",
       "      <td>0.040404</td>\n",
       "      <td>0.2</td>\n",
       "      <td>0.2</td>\n",
       "      <td>0.2</td>\n",
       "      <td>0.2</td>\n",
       "      <td>0.2</td>\n",
       "      <td>0.2</td>\n",
       "      <td>0.188100</td>\n",
       "      <td>0.111995</td>\n",
       "      <td>0.113407</td>\n",
       "      <td>...</td>\n",
       "      <td>0</td>\n",
       "      <td>0</td>\n",
       "      <td>0</td>\n",
       "      <td>0</td>\n",
       "      <td>1</td>\n",
       "      <td>1</td>\n",
       "      <td>0</td>\n",
       "      <td>1</td>\n",
       "      <td>0</td>\n",
       "      <td>0</td>\n",
       "    </tr>\n",
       "    <tr>\n",
       "      <td>4</td>\n",
       "      <td>0.040404</td>\n",
       "      <td>0.1</td>\n",
       "      <td>0.2</td>\n",
       "      <td>0.1</td>\n",
       "      <td>0.2</td>\n",
       "      <td>0.2</td>\n",
       "      <td>0.2</td>\n",
       "      <td>0.154144</td>\n",
       "      <td>0.071601</td>\n",
       "      <td>0.106020</td>\n",
       "      <td>...</td>\n",
       "      <td>1</td>\n",
       "      <td>0</td>\n",
       "      <td>0</td>\n",
       "      <td>0</td>\n",
       "      <td>1</td>\n",
       "      <td>1</td>\n",
       "      <td>0</td>\n",
       "      <td>1</td>\n",
       "      <td>0</td>\n",
       "      <td>0</td>\n",
       "    </tr>\n",
       "  </tbody>\n",
       "</table>\n",
       "<p>5 rows × 30 columns</p>\n",
       "</div>"
      ],
      "text/plain": [
       "   limit_bal  pay_0  pay_2  pay_3  pay_4  pay_5  pay_6  bill_amt1  bill_amt2  \\\n",
       "0   0.010101    0.4    0.4    0.1    0.1    0.0    0.0   0.149982   0.069164   \n",
       "1   0.111111    0.1    0.4    0.2    0.2    0.2    0.4   0.148892   0.067858   \n",
       "2   0.080808    0.2    0.2    0.2    0.2    0.2    0.2   0.172392   0.079532   \n",
       "3   0.040404    0.2    0.2    0.2    0.2    0.2    0.2   0.188100   0.111995   \n",
       "4   0.040404    0.1    0.2    0.1    0.2    0.2    0.2   0.154144   0.071601   \n",
       "\n",
       "   bill_amt3  ...  male  graduate_school  high_school  other  university  \\\n",
       "0   0.086723  ...     0                0            0      0           1   \n",
       "1   0.087817  ...     0                0            0      0           1   \n",
       "2   0.093789  ...     0                0            0      0           1   \n",
       "3   0.113407  ...     0                0            0      0           1   \n",
       "4   0.106020  ...     1                0            0      0           1   \n",
       "\n",
       "   married  single  under_60  over_60  default_payment_next_month  \n",
       "0        1       0         1        0                           1  \n",
       "1        0       1         1        0                           1  \n",
       "2        0       1         1        0                           0  \n",
       "3        1       0         1        0                           0  \n",
       "4        1       0         1        0                           0  \n",
       "\n",
       "[5 rows x 30 columns]"
      ]
     },
     "execution_count": 41,
     "metadata": {},
     "output_type": "execute_result"
    }
   ],
   "source": [
    "df.head()"
   ]
  },
  {
   "cell_type": "code",
   "execution_count": 42,
   "metadata": {
    "colab": {
     "base_uri": "https://localhost:8080/"
    },
    "id": "oDRSYn9FdZ51",
    "outputId": "6d9573eb-f514-4c3d-e5fb-b306091277c1"
   },
   "outputs": [
    {
     "data": {
      "text/plain": [
       "Index(['limit_bal', 'pay_0', 'pay_2', 'pay_3', 'pay_4', 'pay_5', 'pay_6',\n",
       "       'bill_amt1', 'bill_amt2', 'bill_amt3', 'bill_amt4', 'bill_amt5',\n",
       "       'bill_amt6', 'pay_amt1', 'pay_amt2', 'pay_amt3', 'pay_amt4', 'pay_amt5',\n",
       "       'pay_amt6', 'female', 'male', 'graduate_school', 'high_school', 'other',\n",
       "       'university', 'married', 'single', 'under_60', 'over_60',\n",
       "       'default_payment_next_month'],\n",
       "      dtype='object')"
      ]
     },
     "execution_count": 42,
     "metadata": {},
     "output_type": "execute_result"
    }
   ],
   "source": [
    "df.columns"
   ]
  },
  {
   "cell_type": "code",
   "execution_count": 43,
   "metadata": {
    "colab": {
     "base_uri": "https://localhost:8080/",
     "height": 955
    },
    "id": "SkkUk4DVdZ51",
    "outputId": "be8411f0-2ce0-49de-83b5-c04825b78906"
   },
   "outputs": [
    {
     "data": {
      "text/html": [
       "<div>\n",
       "<style scoped>\n",
       "    .dataframe tbody tr th:only-of-type {\n",
       "        vertical-align: middle;\n",
       "    }\n",
       "\n",
       "    .dataframe tbody tr th {\n",
       "        vertical-align: top;\n",
       "    }\n",
       "\n",
       "    .dataframe thead th {\n",
       "        text-align: right;\n",
       "    }\n",
       "</style>\n",
       "<table border=\"1\" class=\"dataframe\">\n",
       "  <thead>\n",
       "    <tr style=\"text-align: right;\">\n",
       "      <th></th>\n",
       "      <th>limit_bal</th>\n",
       "      <th>pay_0</th>\n",
       "      <th>pay_2</th>\n",
       "      <th>pay_3</th>\n",
       "      <th>pay_4</th>\n",
       "      <th>pay_5</th>\n",
       "      <th>pay_6</th>\n",
       "      <th>bill_amt1</th>\n",
       "      <th>bill_amt2</th>\n",
       "      <th>bill_amt3</th>\n",
       "      <th>...</th>\n",
       "      <th>male</th>\n",
       "      <th>graduate_school</th>\n",
       "      <th>high_school</th>\n",
       "      <th>other</th>\n",
       "      <th>university</th>\n",
       "      <th>married</th>\n",
       "      <th>single</th>\n",
       "      <th>under_60</th>\n",
       "      <th>over_60</th>\n",
       "      <th>default_payment_next_month</th>\n",
       "    </tr>\n",
       "  </thead>\n",
       "  <tbody>\n",
       "    <tr>\n",
       "      <td>limit_bal</td>\n",
       "      <td>1.000000</td>\n",
       "      <td>-0.271214</td>\n",
       "      <td>-0.296382</td>\n",
       "      <td>-0.286123</td>\n",
       "      <td>-0.267460</td>\n",
       "      <td>-0.249411</td>\n",
       "      <td>-0.235195</td>\n",
       "      <td>0.285430</td>\n",
       "      <td>0.278314</td>\n",
       "      <td>0.283236</td>\n",
       "      <td>...</td>\n",
       "      <td>-0.024755</td>\n",
       "      <td>0.258777</td>\n",
       "      <td>-0.139678</td>\n",
       "      <td>0.026196</td>\n",
       "      <td>-0.147398</td>\n",
       "      <td>0.103701</td>\n",
       "      <td>-0.103701</td>\n",
       "      <td>-0.016723</td>\n",
       "      <td>0.016723</td>\n",
       "      <td>-0.153520</td>\n",
       "    </tr>\n",
       "    <tr>\n",
       "      <td>pay_0</td>\n",
       "      <td>-0.271214</td>\n",
       "      <td>1.000000</td>\n",
       "      <td>0.672164</td>\n",
       "      <td>0.574245</td>\n",
       "      <td>0.538841</td>\n",
       "      <td>0.509426</td>\n",
       "      <td>0.474553</td>\n",
       "      <td>0.187068</td>\n",
       "      <td>0.189859</td>\n",
       "      <td>0.179785</td>\n",
       "      <td>...</td>\n",
       "      <td>0.057643</td>\n",
       "      <td>-0.142720</td>\n",
       "      <td>0.058906</td>\n",
       "      <td>-0.027707</td>\n",
       "      <td>0.096429</td>\n",
       "      <td>-0.016314</td>\n",
       "      <td>0.016314</td>\n",
       "      <td>-0.013952</td>\n",
       "      <td>0.013952</td>\n",
       "      <td>0.324794</td>\n",
       "    </tr>\n",
       "    <tr>\n",
       "      <td>pay_2</td>\n",
       "      <td>-0.296382</td>\n",
       "      <td>0.672164</td>\n",
       "      <td>1.000000</td>\n",
       "      <td>0.766552</td>\n",
       "      <td>0.662067</td>\n",
       "      <td>0.622780</td>\n",
       "      <td>0.575501</td>\n",
       "      <td>0.234887</td>\n",
       "      <td>0.235257</td>\n",
       "      <td>0.224146</td>\n",
       "      <td>...</td>\n",
       "      <td>0.070771</td>\n",
       "      <td>-0.169215</td>\n",
       "      <td>0.064585</td>\n",
       "      <td>-0.034030</td>\n",
       "      <td>0.118376</td>\n",
       "      <td>-0.022525</td>\n",
       "      <td>0.022525</td>\n",
       "      <td>-0.001111</td>\n",
       "      <td>0.001111</td>\n",
       "      <td>0.263551</td>\n",
       "    </tr>\n",
       "    <tr>\n",
       "      <td>pay_3</td>\n",
       "      <td>-0.286123</td>\n",
       "      <td>0.574245</td>\n",
       "      <td>0.766552</td>\n",
       "      <td>1.000000</td>\n",
       "      <td>0.777359</td>\n",
       "      <td>0.686775</td>\n",
       "      <td>0.632684</td>\n",
       "      <td>0.208473</td>\n",
       "      <td>0.237295</td>\n",
       "      <td>0.227494</td>\n",
       "      <td>...</td>\n",
       "      <td>0.066096</td>\n",
       "      <td>-0.160209</td>\n",
       "      <td>0.062303</td>\n",
       "      <td>-0.030991</td>\n",
       "      <td>0.111062</td>\n",
       "      <td>-0.030584</td>\n",
       "      <td>0.030584</td>\n",
       "      <td>0.003648</td>\n",
       "      <td>-0.003648</td>\n",
       "      <td>0.235253</td>\n",
       "    </tr>\n",
       "    <tr>\n",
       "      <td>pay_4</td>\n",
       "      <td>-0.267460</td>\n",
       "      <td>0.538841</td>\n",
       "      <td>0.662067</td>\n",
       "      <td>0.777359</td>\n",
       "      <td>1.000000</td>\n",
       "      <td>0.819835</td>\n",
       "      <td>0.716449</td>\n",
       "      <td>0.202812</td>\n",
       "      <td>0.225816</td>\n",
       "      <td>0.244983</td>\n",
       "      <td>...</td>\n",
       "      <td>0.060173</td>\n",
       "      <td>-0.152402</td>\n",
       "      <td>0.058370</td>\n",
       "      <td>-0.032280</td>\n",
       "      <td>0.106673</td>\n",
       "      <td>-0.030167</td>\n",
       "      <td>0.030167</td>\n",
       "      <td>0.004974</td>\n",
       "      <td>-0.004974</td>\n",
       "      <td>0.216614</td>\n",
       "    </tr>\n",
       "    <tr>\n",
       "      <td>pay_5</td>\n",
       "      <td>-0.249411</td>\n",
       "      <td>0.509426</td>\n",
       "      <td>0.622780</td>\n",
       "      <td>0.686775</td>\n",
       "      <td>0.819835</td>\n",
       "      <td>1.000000</td>\n",
       "      <td>0.816900</td>\n",
       "      <td>0.206684</td>\n",
       "      <td>0.226913</td>\n",
       "      <td>0.243335</td>\n",
       "      <td>...</td>\n",
       "      <td>0.055064</td>\n",
       "      <td>-0.138709</td>\n",
       "      <td>0.049560</td>\n",
       "      <td>-0.028881</td>\n",
       "      <td>0.099667</td>\n",
       "      <td>-0.034081</td>\n",
       "      <td>0.034081</td>\n",
       "      <td>0.003630</td>\n",
       "      <td>-0.003630</td>\n",
       "      <td>0.204149</td>\n",
       "    </tr>\n",
       "    <tr>\n",
       "      <td>pay_6</td>\n",
       "      <td>-0.235195</td>\n",
       "      <td>0.474553</td>\n",
       "      <td>0.575501</td>\n",
       "      <td>0.632684</td>\n",
       "      <td>0.716449</td>\n",
       "      <td>0.816900</td>\n",
       "      <td>1.000000</td>\n",
       "      <td>0.207373</td>\n",
       "      <td>0.226924</td>\n",
       "      <td>0.241181</td>\n",
       "      <td>...</td>\n",
       "      <td>0.044008</td>\n",
       "      <td>-0.125123</td>\n",
       "      <td>0.041351</td>\n",
       "      <td>-0.024805</td>\n",
       "      <td>0.092231</td>\n",
       "      <td>-0.031772</td>\n",
       "      <td>0.031772</td>\n",
       "      <td>-0.000382</td>\n",
       "      <td>0.000382</td>\n",
       "      <td>0.186866</td>\n",
       "    </tr>\n",
       "    <tr>\n",
       "      <td>bill_amt1</td>\n",
       "      <td>0.285430</td>\n",
       "      <td>0.187068</td>\n",
       "      <td>0.234887</td>\n",
       "      <td>0.208473</td>\n",
       "      <td>0.202812</td>\n",
       "      <td>0.206684</td>\n",
       "      <td>0.207373</td>\n",
       "      <td>1.000000</td>\n",
       "      <td>0.951484</td>\n",
       "      <td>0.892279</td>\n",
       "      <td>...</td>\n",
       "      <td>0.033642</td>\n",
       "      <td>-0.024045</td>\n",
       "      <td>-0.021959</td>\n",
       "      <td>0.002676</td>\n",
       "      <td>0.038926</td>\n",
       "      <td>0.025264</td>\n",
       "      <td>-0.025264</td>\n",
       "      <td>-0.020431</td>\n",
       "      <td>0.020431</td>\n",
       "      <td>-0.019644</td>\n",
       "    </tr>\n",
       "    <tr>\n",
       "      <td>bill_amt2</td>\n",
       "      <td>0.278314</td>\n",
       "      <td>0.189859</td>\n",
       "      <td>0.235257</td>\n",
       "      <td>0.237295</td>\n",
       "      <td>0.225816</td>\n",
       "      <td>0.226913</td>\n",
       "      <td>0.226924</td>\n",
       "      <td>0.951484</td>\n",
       "      <td>1.000000</td>\n",
       "      <td>0.928326</td>\n",
       "      <td>...</td>\n",
       "      <td>0.031183</td>\n",
       "      <td>-0.020334</td>\n",
       "      <td>-0.022718</td>\n",
       "      <td>-0.001935</td>\n",
       "      <td>0.036531</td>\n",
       "      <td>0.022429</td>\n",
       "      <td>-0.022429</td>\n",
       "      <td>-0.020448</td>\n",
       "      <td>0.020448</td>\n",
       "      <td>-0.014193</td>\n",
       "    </tr>\n",
       "    <tr>\n",
       "      <td>bill_amt3</td>\n",
       "      <td>0.283236</td>\n",
       "      <td>0.179785</td>\n",
       "      <td>0.224146</td>\n",
       "      <td>0.227494</td>\n",
       "      <td>0.244983</td>\n",
       "      <td>0.243335</td>\n",
       "      <td>0.241181</td>\n",
       "      <td>0.892279</td>\n",
       "      <td>0.928326</td>\n",
       "      <td>1.000000</td>\n",
       "      <td>...</td>\n",
       "      <td>0.024563</td>\n",
       "      <td>-0.013112</td>\n",
       "      <td>-0.022763</td>\n",
       "      <td>-0.002132</td>\n",
       "      <td>0.029682</td>\n",
       "      <td>0.025946</td>\n",
       "      <td>-0.025946</td>\n",
       "      <td>-0.020484</td>\n",
       "      <td>0.020484</td>\n",
       "      <td>-0.014076</td>\n",
       "    </tr>\n",
       "    <tr>\n",
       "      <td>bill_amt4</td>\n",
       "      <td>0.293988</td>\n",
       "      <td>0.179125</td>\n",
       "      <td>0.222237</td>\n",
       "      <td>0.227202</td>\n",
       "      <td>0.245917</td>\n",
       "      <td>0.271915</td>\n",
       "      <td>0.266356</td>\n",
       "      <td>0.860272</td>\n",
       "      <td>0.892482</td>\n",
       "      <td>0.923969</td>\n",
       "      <td>...</td>\n",
       "      <td>0.021880</td>\n",
       "      <td>-0.003809</td>\n",
       "      <td>-0.031235</td>\n",
       "      <td>-0.003919</td>\n",
       "      <td>0.027291</td>\n",
       "      <td>0.023149</td>\n",
       "      <td>-0.023149</td>\n",
       "      <td>-0.022573</td>\n",
       "      <td>0.022573</td>\n",
       "      <td>-0.010156</td>\n",
       "    </tr>\n",
       "    <tr>\n",
       "      <td>bill_amt5</td>\n",
       "      <td>0.295562</td>\n",
       "      <td>0.180635</td>\n",
       "      <td>0.221348</td>\n",
       "      <td>0.225145</td>\n",
       "      <td>0.242902</td>\n",
       "      <td>0.269783</td>\n",
       "      <td>0.290894</td>\n",
       "      <td>0.829779</td>\n",
       "      <td>0.859778</td>\n",
       "      <td>0.883910</td>\n",
       "      <td>...</td>\n",
       "      <td>0.017005</td>\n",
       "      <td>0.000941</td>\n",
       "      <td>-0.031668</td>\n",
       "      <td>-0.007046</td>\n",
       "      <td>0.023469</td>\n",
       "      <td>0.025019</td>\n",
       "      <td>-0.025019</td>\n",
       "      <td>-0.023061</td>\n",
       "      <td>0.023061</td>\n",
       "      <td>-0.006760</td>\n",
       "    </tr>\n",
       "    <tr>\n",
       "      <td>bill_amt6</td>\n",
       "      <td>0.290389</td>\n",
       "      <td>0.176980</td>\n",
       "      <td>0.219403</td>\n",
       "      <td>0.222327</td>\n",
       "      <td>0.239154</td>\n",
       "      <td>0.262509</td>\n",
       "      <td>0.285091</td>\n",
       "      <td>0.802650</td>\n",
       "      <td>0.831594</td>\n",
       "      <td>0.853320</td>\n",
       "      <td>...</td>\n",
       "      <td>0.016733</td>\n",
       "      <td>-0.002525</td>\n",
       "      <td>-0.030930</td>\n",
       "      <td>-0.007534</td>\n",
       "      <td>0.026301</td>\n",
       "      <td>0.021169</td>\n",
       "      <td>-0.021169</td>\n",
       "      <td>-0.024122</td>\n",
       "      <td>0.024122</td>\n",
       "      <td>-0.005372</td>\n",
       "    </tr>\n",
       "    <tr>\n",
       "      <td>pay_amt1</td>\n",
       "      <td>0.195236</td>\n",
       "      <td>-0.079269</td>\n",
       "      <td>-0.080701</td>\n",
       "      <td>0.001295</td>\n",
       "      <td>-0.009362</td>\n",
       "      <td>-0.006089</td>\n",
       "      <td>-0.001496</td>\n",
       "      <td>0.140277</td>\n",
       "      <td>0.280365</td>\n",
       "      <td>0.244335</td>\n",
       "      <td>...</td>\n",
       "      <td>0.000242</td>\n",
       "      <td>0.049811</td>\n",
       "      <td>-0.021299</td>\n",
       "      <td>-0.000895</td>\n",
       "      <td>-0.031750</td>\n",
       "      <td>0.006964</td>\n",
       "      <td>-0.006964</td>\n",
       "      <td>0.001234</td>\n",
       "      <td>-0.001234</td>\n",
       "      <td>-0.072929</td>\n",
       "    </tr>\n",
       "    <tr>\n",
       "      <td>pay_amt2</td>\n",
       "      <td>0.178408</td>\n",
       "      <td>-0.070101</td>\n",
       "      <td>-0.058990</td>\n",
       "      <td>-0.066793</td>\n",
       "      <td>-0.001944</td>\n",
       "      <td>-0.003191</td>\n",
       "      <td>-0.005223</td>\n",
       "      <td>0.099355</td>\n",
       "      <td>0.100851</td>\n",
       "      <td>0.316936</td>\n",
       "      <td>...</td>\n",
       "      <td>0.001391</td>\n",
       "      <td>0.044400</td>\n",
       "      <td>-0.016652</td>\n",
       "      <td>0.001625</td>\n",
       "      <td>-0.030340</td>\n",
       "      <td>0.011291</td>\n",
       "      <td>-0.011291</td>\n",
       "      <td>0.004661</td>\n",
       "      <td>-0.004661</td>\n",
       "      <td>-0.058579</td>\n",
       "    </tr>\n",
       "    <tr>\n",
       "      <td>pay_amt3</td>\n",
       "      <td>0.210167</td>\n",
       "      <td>-0.070561</td>\n",
       "      <td>-0.055901</td>\n",
       "      <td>-0.053311</td>\n",
       "      <td>-0.069235</td>\n",
       "      <td>0.009062</td>\n",
       "      <td>0.005834</td>\n",
       "      <td>0.156887</td>\n",
       "      <td>0.150718</td>\n",
       "      <td>0.130011</td>\n",
       "      <td>...</td>\n",
       "      <td>0.008597</td>\n",
       "      <td>0.055982</td>\n",
       "      <td>-0.031704</td>\n",
       "      <td>0.017153</td>\n",
       "      <td>-0.032261</td>\n",
       "      <td>0.005339</td>\n",
       "      <td>-0.005339</td>\n",
       "      <td>-0.005467</td>\n",
       "      <td>0.005467</td>\n",
       "      <td>-0.056250</td>\n",
       "    </tr>\n",
       "    <tr>\n",
       "      <td>pay_amt4</td>\n",
       "      <td>0.203242</td>\n",
       "      <td>-0.064005</td>\n",
       "      <td>-0.046858</td>\n",
       "      <td>-0.046067</td>\n",
       "      <td>-0.043461</td>\n",
       "      <td>-0.058299</td>\n",
       "      <td>0.019018</td>\n",
       "      <td>0.158303</td>\n",
       "      <td>0.147398</td>\n",
       "      <td>0.143405</td>\n",
       "      <td>...</td>\n",
       "      <td>0.002229</td>\n",
       "      <td>0.046119</td>\n",
       "      <td>-0.023534</td>\n",
       "      <td>0.001010</td>\n",
       "      <td>-0.026806</td>\n",
       "      <td>0.014581</td>\n",
       "      <td>-0.014581</td>\n",
       "      <td>0.006252</td>\n",
       "      <td>-0.006252</td>\n",
       "      <td>-0.056827</td>\n",
       "    </tr>\n",
       "    <tr>\n",
       "      <td>pay_amt5</td>\n",
       "      <td>0.217202</td>\n",
       "      <td>-0.058190</td>\n",
       "      <td>-0.037093</td>\n",
       "      <td>-0.035863</td>\n",
       "      <td>-0.033590</td>\n",
       "      <td>-0.033337</td>\n",
       "      <td>-0.046434</td>\n",
       "      <td>0.167026</td>\n",
       "      <td>0.157957</td>\n",
       "      <td>0.179712</td>\n",
       "      <td>...</td>\n",
       "      <td>0.001667</td>\n",
       "      <td>0.047226</td>\n",
       "      <td>-0.034748</td>\n",
       "      <td>0.004858</td>\n",
       "      <td>-0.020050</td>\n",
       "      <td>0.002195</td>\n",
       "      <td>-0.002195</td>\n",
       "      <td>-0.004870</td>\n",
       "      <td>0.004870</td>\n",
       "      <td>-0.055124</td>\n",
       "    </tr>\n",
       "    <tr>\n",
       "      <td>pay_amt6</td>\n",
       "      <td>0.219595</td>\n",
       "      <td>-0.058673</td>\n",
       "      <td>-0.036500</td>\n",
       "      <td>-0.035861</td>\n",
       "      <td>-0.026565</td>\n",
       "      <td>-0.023027</td>\n",
       "      <td>-0.025299</td>\n",
       "      <td>0.179341</td>\n",
       "      <td>0.174256</td>\n",
       "      <td>0.182326</td>\n",
       "      <td>...</td>\n",
       "      <td>0.002766</td>\n",
       "      <td>0.050135</td>\n",
       "      <td>-0.034594</td>\n",
       "      <td>-0.003468</td>\n",
       "      <td>-0.021878</td>\n",
       "      <td>0.005974</td>\n",
       "      <td>-0.005974</td>\n",
       "      <td>0.001201</td>\n",
       "      <td>-0.001201</td>\n",
       "      <td>-0.053183</td>\n",
       "    </tr>\n",
       "    <tr>\n",
       "      <td>female</td>\n",
       "      <td>0.024755</td>\n",
       "      <td>-0.057643</td>\n",
       "      <td>-0.070771</td>\n",
       "      <td>-0.066096</td>\n",
       "      <td>-0.060173</td>\n",
       "      <td>-0.055064</td>\n",
       "      <td>-0.044008</td>\n",
       "      <td>-0.033642</td>\n",
       "      <td>-0.031183</td>\n",
       "      <td>-0.024563</td>\n",
       "      <td>...</td>\n",
       "      <td>-1.000000</td>\n",
       "      <td>-0.022750</td>\n",
       "      <td>-0.007724</td>\n",
       "      <td>0.007581</td>\n",
       "      <td>0.026510</td>\n",
       "      <td>0.030463</td>\n",
       "      <td>-0.030463</td>\n",
       "      <td>0.029096</td>\n",
       "      <td>-0.029096</td>\n",
       "      <td>-0.039961</td>\n",
       "    </tr>\n",
       "    <tr>\n",
       "      <td>male</td>\n",
       "      <td>-0.024755</td>\n",
       "      <td>0.057643</td>\n",
       "      <td>0.070771</td>\n",
       "      <td>0.066096</td>\n",
       "      <td>0.060173</td>\n",
       "      <td>0.055064</td>\n",
       "      <td>0.044008</td>\n",
       "      <td>0.033642</td>\n",
       "      <td>0.031183</td>\n",
       "      <td>0.024563</td>\n",
       "      <td>...</td>\n",
       "      <td>1.000000</td>\n",
       "      <td>0.022750</td>\n",
       "      <td>0.007724</td>\n",
       "      <td>-0.007581</td>\n",
       "      <td>-0.026510</td>\n",
       "      <td>-0.030463</td>\n",
       "      <td>0.030463</td>\n",
       "      <td>-0.029096</td>\n",
       "      <td>0.029096</td>\n",
       "      <td>0.039961</td>\n",
       "    </tr>\n",
       "    <tr>\n",
       "      <td>graduate_school</td>\n",
       "      <td>0.258777</td>\n",
       "      <td>-0.142720</td>\n",
       "      <td>-0.169215</td>\n",
       "      <td>-0.160209</td>\n",
       "      <td>-0.152402</td>\n",
       "      <td>-0.138709</td>\n",
       "      <td>-0.125123</td>\n",
       "      <td>-0.024045</td>\n",
       "      <td>-0.020334</td>\n",
       "      <td>-0.013112</td>\n",
       "      <td>...</td>\n",
       "      <td>0.022750</td>\n",
       "      <td>1.000000</td>\n",
       "      <td>-0.326877</td>\n",
       "      <td>-0.047569</td>\n",
       "      <td>-0.708224</td>\n",
       "      <td>-0.153711</td>\n",
       "      <td>0.153711</td>\n",
       "      <td>0.018015</td>\n",
       "      <td>-0.018015</td>\n",
       "      <td>-0.051328</td>\n",
       "    </tr>\n",
       "    <tr>\n",
       "      <td>high_school</td>\n",
       "      <td>-0.139678</td>\n",
       "      <td>0.058906</td>\n",
       "      <td>0.064585</td>\n",
       "      <td>0.062303</td>\n",
       "      <td>0.058370</td>\n",
       "      <td>0.049560</td>\n",
       "      <td>0.041351</td>\n",
       "      <td>-0.021959</td>\n",
       "      <td>-0.022718</td>\n",
       "      <td>-0.022763</td>\n",
       "      <td>...</td>\n",
       "      <td>0.007724</td>\n",
       "      <td>-0.326877</td>\n",
       "      <td>1.000000</td>\n",
       "      <td>-0.028521</td>\n",
       "      <td>-0.424621</td>\n",
       "      <td>0.112430</td>\n",
       "      <td>-0.112430</td>\n",
       "      <td>-0.071340</td>\n",
       "      <td>0.071340</td>\n",
       "      <td>0.032454</td>\n",
       "    </tr>\n",
       "    <tr>\n",
       "      <td>other</td>\n",
       "      <td>0.026196</td>\n",
       "      <td>-0.027707</td>\n",
       "      <td>-0.034030</td>\n",
       "      <td>-0.030991</td>\n",
       "      <td>-0.032280</td>\n",
       "      <td>-0.028881</td>\n",
       "      <td>-0.024805</td>\n",
       "      <td>0.002676</td>\n",
       "      <td>-0.001935</td>\n",
       "      <td>-0.002132</td>\n",
       "      <td>...</td>\n",
       "      <td>-0.007581</td>\n",
       "      <td>-0.047569</td>\n",
       "      <td>-0.028521</td>\n",
       "      <td>1.000000</td>\n",
       "      <td>-0.061794</td>\n",
       "      <td>-0.003607</td>\n",
       "      <td>0.003607</td>\n",
       "      <td>0.006877</td>\n",
       "      <td>-0.006877</td>\n",
       "      <td>-0.025572</td>\n",
       "    </tr>\n",
       "    <tr>\n",
       "      <td>university</td>\n",
       "      <td>-0.147398</td>\n",
       "      <td>0.096429</td>\n",
       "      <td>0.118376</td>\n",
       "      <td>0.111062</td>\n",
       "      <td>0.106673</td>\n",
       "      <td>0.099667</td>\n",
       "      <td>0.092231</td>\n",
       "      <td>0.038926</td>\n",
       "      <td>0.036531</td>\n",
       "      <td>0.029682</td>\n",
       "      <td>...</td>\n",
       "      <td>-0.026510</td>\n",
       "      <td>-0.708224</td>\n",
       "      <td>-0.424621</td>\n",
       "      <td>-0.061794</td>\n",
       "      <td>1.000000</td>\n",
       "      <td>0.064188</td>\n",
       "      <td>-0.064188</td>\n",
       "      <td>0.034744</td>\n",
       "      <td>-0.034744</td>\n",
       "      <td>0.028334</td>\n",
       "    </tr>\n",
       "    <tr>\n",
       "      <td>married</td>\n",
       "      <td>0.103701</td>\n",
       "      <td>-0.016314</td>\n",
       "      <td>-0.022525</td>\n",
       "      <td>-0.030584</td>\n",
       "      <td>-0.030167</td>\n",
       "      <td>-0.034081</td>\n",
       "      <td>-0.031772</td>\n",
       "      <td>0.025264</td>\n",
       "      <td>0.022429</td>\n",
       "      <td>0.025946</td>\n",
       "      <td>...</td>\n",
       "      <td>-0.030463</td>\n",
       "      <td>-0.153711</td>\n",
       "      <td>0.112430</td>\n",
       "      <td>-0.003607</td>\n",
       "      <td>0.064188</td>\n",
       "      <td>1.000000</td>\n",
       "      <td>-1.000000</td>\n",
       "      <td>-0.077439</td>\n",
       "      <td>0.077439</td>\n",
       "      <td>0.029775</td>\n",
       "    </tr>\n",
       "    <tr>\n",
       "      <td>single</td>\n",
       "      <td>-0.103701</td>\n",
       "      <td>0.016314</td>\n",
       "      <td>0.022525</td>\n",
       "      <td>0.030584</td>\n",
       "      <td>0.030167</td>\n",
       "      <td>0.034081</td>\n",
       "      <td>0.031772</td>\n",
       "      <td>-0.025264</td>\n",
       "      <td>-0.022429</td>\n",
       "      <td>-0.025946</td>\n",
       "      <td>...</td>\n",
       "      <td>0.030463</td>\n",
       "      <td>0.153711</td>\n",
       "      <td>-0.112430</td>\n",
       "      <td>0.003607</td>\n",
       "      <td>-0.064188</td>\n",
       "      <td>-1.000000</td>\n",
       "      <td>1.000000</td>\n",
       "      <td>0.077439</td>\n",
       "      <td>-0.077439</td>\n",
       "      <td>-0.029775</td>\n",
       "    </tr>\n",
       "    <tr>\n",
       "      <td>under_60</td>\n",
       "      <td>-0.016723</td>\n",
       "      <td>-0.013952</td>\n",
       "      <td>-0.001111</td>\n",
       "      <td>0.003648</td>\n",
       "      <td>0.004974</td>\n",
       "      <td>0.003630</td>\n",
       "      <td>-0.000382</td>\n",
       "      <td>-0.020431</td>\n",
       "      <td>-0.020448</td>\n",
       "      <td>-0.020484</td>\n",
       "      <td>...</td>\n",
       "      <td>-0.029096</td>\n",
       "      <td>0.018015</td>\n",
       "      <td>-0.071340</td>\n",
       "      <td>0.006877</td>\n",
       "      <td>0.034744</td>\n",
       "      <td>-0.077439</td>\n",
       "      <td>0.077439</td>\n",
       "      <td>1.000000</td>\n",
       "      <td>-1.000000</td>\n",
       "      <td>-0.016158</td>\n",
       "    </tr>\n",
       "    <tr>\n",
       "      <td>over_60</td>\n",
       "      <td>0.016723</td>\n",
       "      <td>0.013952</td>\n",
       "      <td>0.001111</td>\n",
       "      <td>-0.003648</td>\n",
       "      <td>-0.004974</td>\n",
       "      <td>-0.003630</td>\n",
       "      <td>0.000382</td>\n",
       "      <td>0.020431</td>\n",
       "      <td>0.020448</td>\n",
       "      <td>0.020484</td>\n",
       "      <td>...</td>\n",
       "      <td>0.029096</td>\n",
       "      <td>-0.018015</td>\n",
       "      <td>0.071340</td>\n",
       "      <td>-0.006877</td>\n",
       "      <td>-0.034744</td>\n",
       "      <td>0.077439</td>\n",
       "      <td>-0.077439</td>\n",
       "      <td>-1.000000</td>\n",
       "      <td>1.000000</td>\n",
       "      <td>0.016158</td>\n",
       "    </tr>\n",
       "    <tr>\n",
       "      <td>default_payment_next_month</td>\n",
       "      <td>-0.153520</td>\n",
       "      <td>0.324794</td>\n",
       "      <td>0.263551</td>\n",
       "      <td>0.235253</td>\n",
       "      <td>0.216614</td>\n",
       "      <td>0.204149</td>\n",
       "      <td>0.186866</td>\n",
       "      <td>-0.019644</td>\n",
       "      <td>-0.014193</td>\n",
       "      <td>-0.014076</td>\n",
       "      <td>...</td>\n",
       "      <td>0.039961</td>\n",
       "      <td>-0.051328</td>\n",
       "      <td>0.032454</td>\n",
       "      <td>-0.025572</td>\n",
       "      <td>0.028334</td>\n",
       "      <td>0.029775</td>\n",
       "      <td>-0.029775</td>\n",
       "      <td>-0.016158</td>\n",
       "      <td>0.016158</td>\n",
       "      <td>1.000000</td>\n",
       "    </tr>\n",
       "  </tbody>\n",
       "</table>\n",
       "<p>30 rows × 30 columns</p>\n",
       "</div>"
      ],
      "text/plain": [
       "                            limit_bal     pay_0     pay_2     pay_3     pay_4  \\\n",
       "limit_bal                    1.000000 -0.271214 -0.296382 -0.286123 -0.267460   \n",
       "pay_0                       -0.271214  1.000000  0.672164  0.574245  0.538841   \n",
       "pay_2                       -0.296382  0.672164  1.000000  0.766552  0.662067   \n",
       "pay_3                       -0.286123  0.574245  0.766552  1.000000  0.777359   \n",
       "pay_4                       -0.267460  0.538841  0.662067  0.777359  1.000000   \n",
       "pay_5                       -0.249411  0.509426  0.622780  0.686775  0.819835   \n",
       "pay_6                       -0.235195  0.474553  0.575501  0.632684  0.716449   \n",
       "bill_amt1                    0.285430  0.187068  0.234887  0.208473  0.202812   \n",
       "bill_amt2                    0.278314  0.189859  0.235257  0.237295  0.225816   \n",
       "bill_amt3                    0.283236  0.179785  0.224146  0.227494  0.244983   \n",
       "bill_amt4                    0.293988  0.179125  0.222237  0.227202  0.245917   \n",
       "bill_amt5                    0.295562  0.180635  0.221348  0.225145  0.242902   \n",
       "bill_amt6                    0.290389  0.176980  0.219403  0.222327  0.239154   \n",
       "pay_amt1                     0.195236 -0.079269 -0.080701  0.001295 -0.009362   \n",
       "pay_amt2                     0.178408 -0.070101 -0.058990 -0.066793 -0.001944   \n",
       "pay_amt3                     0.210167 -0.070561 -0.055901 -0.053311 -0.069235   \n",
       "pay_amt4                     0.203242 -0.064005 -0.046858 -0.046067 -0.043461   \n",
       "pay_amt5                     0.217202 -0.058190 -0.037093 -0.035863 -0.033590   \n",
       "pay_amt6                     0.219595 -0.058673 -0.036500 -0.035861 -0.026565   \n",
       "female                       0.024755 -0.057643 -0.070771 -0.066096 -0.060173   \n",
       "male                        -0.024755  0.057643  0.070771  0.066096  0.060173   \n",
       "graduate_school              0.258777 -0.142720 -0.169215 -0.160209 -0.152402   \n",
       "high_school                 -0.139678  0.058906  0.064585  0.062303  0.058370   \n",
       "other                        0.026196 -0.027707 -0.034030 -0.030991 -0.032280   \n",
       "university                  -0.147398  0.096429  0.118376  0.111062  0.106673   \n",
       "married                      0.103701 -0.016314 -0.022525 -0.030584 -0.030167   \n",
       "single                      -0.103701  0.016314  0.022525  0.030584  0.030167   \n",
       "under_60                    -0.016723 -0.013952 -0.001111  0.003648  0.004974   \n",
       "over_60                      0.016723  0.013952  0.001111 -0.003648 -0.004974   \n",
       "default_payment_next_month  -0.153520  0.324794  0.263551  0.235253  0.216614   \n",
       "\n",
       "                               pay_5     pay_6  bill_amt1  bill_amt2  \\\n",
       "limit_bal                  -0.249411 -0.235195   0.285430   0.278314   \n",
       "pay_0                       0.509426  0.474553   0.187068   0.189859   \n",
       "pay_2                       0.622780  0.575501   0.234887   0.235257   \n",
       "pay_3                       0.686775  0.632684   0.208473   0.237295   \n",
       "pay_4                       0.819835  0.716449   0.202812   0.225816   \n",
       "pay_5                       1.000000  0.816900   0.206684   0.226913   \n",
       "pay_6                       0.816900  1.000000   0.207373   0.226924   \n",
       "bill_amt1                   0.206684  0.207373   1.000000   0.951484   \n",
       "bill_amt2                   0.226913  0.226924   0.951484   1.000000   \n",
       "bill_amt3                   0.243335  0.241181   0.892279   0.928326   \n",
       "bill_amt4                   0.271915  0.266356   0.860272   0.892482   \n",
       "bill_amt5                   0.269783  0.290894   0.829779   0.859778   \n",
       "bill_amt6                   0.262509  0.285091   0.802650   0.831594   \n",
       "pay_amt1                   -0.006089 -0.001496   0.140277   0.280365   \n",
       "pay_amt2                   -0.003191 -0.005223   0.099355   0.100851   \n",
       "pay_amt3                    0.009062  0.005834   0.156887   0.150718   \n",
       "pay_amt4                   -0.058299  0.019018   0.158303   0.147398   \n",
       "pay_amt5                   -0.033337 -0.046434   0.167026   0.157957   \n",
       "pay_amt6                   -0.023027 -0.025299   0.179341   0.174256   \n",
       "female                     -0.055064 -0.044008  -0.033642  -0.031183   \n",
       "male                        0.055064  0.044008   0.033642   0.031183   \n",
       "graduate_school            -0.138709 -0.125123  -0.024045  -0.020334   \n",
       "high_school                 0.049560  0.041351  -0.021959  -0.022718   \n",
       "other                      -0.028881 -0.024805   0.002676  -0.001935   \n",
       "university                  0.099667  0.092231   0.038926   0.036531   \n",
       "married                    -0.034081 -0.031772   0.025264   0.022429   \n",
       "single                      0.034081  0.031772  -0.025264  -0.022429   \n",
       "under_60                    0.003630 -0.000382  -0.020431  -0.020448   \n",
       "over_60                    -0.003630  0.000382   0.020431   0.020448   \n",
       "default_payment_next_month  0.204149  0.186866  -0.019644  -0.014193   \n",
       "\n",
       "                            bill_amt3  ...      male  graduate_school  \\\n",
       "limit_bal                    0.283236  ... -0.024755         0.258777   \n",
       "pay_0                        0.179785  ...  0.057643        -0.142720   \n",
       "pay_2                        0.224146  ...  0.070771        -0.169215   \n",
       "pay_3                        0.227494  ...  0.066096        -0.160209   \n",
       "pay_4                        0.244983  ...  0.060173        -0.152402   \n",
       "pay_5                        0.243335  ...  0.055064        -0.138709   \n",
       "pay_6                        0.241181  ...  0.044008        -0.125123   \n",
       "bill_amt1                    0.892279  ...  0.033642        -0.024045   \n",
       "bill_amt2                    0.928326  ...  0.031183        -0.020334   \n",
       "bill_amt3                    1.000000  ...  0.024563        -0.013112   \n",
       "bill_amt4                    0.923969  ...  0.021880        -0.003809   \n",
       "bill_amt5                    0.883910  ...  0.017005         0.000941   \n",
       "bill_amt6                    0.853320  ...  0.016733        -0.002525   \n",
       "pay_amt1                     0.244335  ...  0.000242         0.049811   \n",
       "pay_amt2                     0.316936  ...  0.001391         0.044400   \n",
       "pay_amt3                     0.130011  ...  0.008597         0.055982   \n",
       "pay_amt4                     0.143405  ...  0.002229         0.046119   \n",
       "pay_amt5                     0.179712  ...  0.001667         0.047226   \n",
       "pay_amt6                     0.182326  ...  0.002766         0.050135   \n",
       "female                      -0.024563  ... -1.000000        -0.022750   \n",
       "male                         0.024563  ...  1.000000         0.022750   \n",
       "graduate_school             -0.013112  ...  0.022750         1.000000   \n",
       "high_school                 -0.022763  ...  0.007724        -0.326877   \n",
       "other                       -0.002132  ... -0.007581        -0.047569   \n",
       "university                   0.029682  ... -0.026510        -0.708224   \n",
       "married                      0.025946  ... -0.030463        -0.153711   \n",
       "single                      -0.025946  ...  0.030463         0.153711   \n",
       "under_60                    -0.020484  ... -0.029096         0.018015   \n",
       "over_60                      0.020484  ...  0.029096        -0.018015   \n",
       "default_payment_next_month  -0.014076  ...  0.039961        -0.051328   \n",
       "\n",
       "                            high_school     other  university   married  \\\n",
       "limit_bal                     -0.139678  0.026196   -0.147398  0.103701   \n",
       "pay_0                          0.058906 -0.027707    0.096429 -0.016314   \n",
       "pay_2                          0.064585 -0.034030    0.118376 -0.022525   \n",
       "pay_3                          0.062303 -0.030991    0.111062 -0.030584   \n",
       "pay_4                          0.058370 -0.032280    0.106673 -0.030167   \n",
       "pay_5                          0.049560 -0.028881    0.099667 -0.034081   \n",
       "pay_6                          0.041351 -0.024805    0.092231 -0.031772   \n",
       "bill_amt1                     -0.021959  0.002676    0.038926  0.025264   \n",
       "bill_amt2                     -0.022718 -0.001935    0.036531  0.022429   \n",
       "bill_amt3                     -0.022763 -0.002132    0.029682  0.025946   \n",
       "bill_amt4                     -0.031235 -0.003919    0.027291  0.023149   \n",
       "bill_amt5                     -0.031668 -0.007046    0.023469  0.025019   \n",
       "bill_amt6                     -0.030930 -0.007534    0.026301  0.021169   \n",
       "pay_amt1                      -0.021299 -0.000895   -0.031750  0.006964   \n",
       "pay_amt2                      -0.016652  0.001625   -0.030340  0.011291   \n",
       "pay_amt3                      -0.031704  0.017153   -0.032261  0.005339   \n",
       "pay_amt4                      -0.023534  0.001010   -0.026806  0.014581   \n",
       "pay_amt5                      -0.034748  0.004858   -0.020050  0.002195   \n",
       "pay_amt6                      -0.034594 -0.003468   -0.021878  0.005974   \n",
       "female                        -0.007724  0.007581    0.026510  0.030463   \n",
       "male                           0.007724 -0.007581   -0.026510 -0.030463   \n",
       "graduate_school               -0.326877 -0.047569   -0.708224 -0.153711   \n",
       "high_school                    1.000000 -0.028521   -0.424621  0.112430   \n",
       "other                         -0.028521  1.000000   -0.061794 -0.003607   \n",
       "university                    -0.424621 -0.061794    1.000000  0.064188   \n",
       "married                        0.112430 -0.003607    0.064188  1.000000   \n",
       "single                        -0.112430  0.003607   -0.064188 -1.000000   \n",
       "under_60                      -0.071340  0.006877    0.034744 -0.077439   \n",
       "over_60                        0.071340 -0.006877   -0.034744  0.077439   \n",
       "default_payment_next_month     0.032454 -0.025572    0.028334  0.029775   \n",
       "\n",
       "                              single  under_60   over_60  \\\n",
       "limit_bal                  -0.103701 -0.016723  0.016723   \n",
       "pay_0                       0.016314 -0.013952  0.013952   \n",
       "pay_2                       0.022525 -0.001111  0.001111   \n",
       "pay_3                       0.030584  0.003648 -0.003648   \n",
       "pay_4                       0.030167  0.004974 -0.004974   \n",
       "pay_5                       0.034081  0.003630 -0.003630   \n",
       "pay_6                       0.031772 -0.000382  0.000382   \n",
       "bill_amt1                  -0.025264 -0.020431  0.020431   \n",
       "bill_amt2                  -0.022429 -0.020448  0.020448   \n",
       "bill_amt3                  -0.025946 -0.020484  0.020484   \n",
       "bill_amt4                  -0.023149 -0.022573  0.022573   \n",
       "bill_amt5                  -0.025019 -0.023061  0.023061   \n",
       "bill_amt6                  -0.021169 -0.024122  0.024122   \n",
       "pay_amt1                   -0.006964  0.001234 -0.001234   \n",
       "pay_amt2                   -0.011291  0.004661 -0.004661   \n",
       "pay_amt3                   -0.005339 -0.005467  0.005467   \n",
       "pay_amt4                   -0.014581  0.006252 -0.006252   \n",
       "pay_amt5                   -0.002195 -0.004870  0.004870   \n",
       "pay_amt6                   -0.005974  0.001201 -0.001201   \n",
       "female                     -0.030463  0.029096 -0.029096   \n",
       "male                        0.030463 -0.029096  0.029096   \n",
       "graduate_school             0.153711  0.018015 -0.018015   \n",
       "high_school                -0.112430 -0.071340  0.071340   \n",
       "other                       0.003607  0.006877 -0.006877   \n",
       "university                 -0.064188  0.034744 -0.034744   \n",
       "married                    -1.000000 -0.077439  0.077439   \n",
       "single                      1.000000  0.077439 -0.077439   \n",
       "under_60                    0.077439  1.000000 -1.000000   \n",
       "over_60                    -0.077439 -1.000000  1.000000   \n",
       "default_payment_next_month -0.029775 -0.016158  0.016158   \n",
       "\n",
       "                            default_payment_next_month  \n",
       "limit_bal                                    -0.153520  \n",
       "pay_0                                         0.324794  \n",
       "pay_2                                         0.263551  \n",
       "pay_3                                         0.235253  \n",
       "pay_4                                         0.216614  \n",
       "pay_5                                         0.204149  \n",
       "pay_6                                         0.186866  \n",
       "bill_amt1                                    -0.019644  \n",
       "bill_amt2                                    -0.014193  \n",
       "bill_amt3                                    -0.014076  \n",
       "bill_amt4                                    -0.010156  \n",
       "bill_amt5                                    -0.006760  \n",
       "bill_amt6                                    -0.005372  \n",
       "pay_amt1                                     -0.072929  \n",
       "pay_amt2                                     -0.058579  \n",
       "pay_amt3                                     -0.056250  \n",
       "pay_amt4                                     -0.056827  \n",
       "pay_amt5                                     -0.055124  \n",
       "pay_amt6                                     -0.053183  \n",
       "female                                       -0.039961  \n",
       "male                                          0.039961  \n",
       "graduate_school                              -0.051328  \n",
       "high_school                                   0.032454  \n",
       "other                                        -0.025572  \n",
       "university                                    0.028334  \n",
       "married                                       0.029775  \n",
       "single                                       -0.029775  \n",
       "under_60                                     -0.016158  \n",
       "over_60                                       0.016158  \n",
       "default_payment_next_month                    1.000000  \n",
       "\n",
       "[30 rows x 30 columns]"
      ]
     },
     "execution_count": 43,
     "metadata": {},
     "output_type": "execute_result"
    }
   ],
   "source": [
    "df.corr()"
   ]
  },
  {
   "cell_type": "code",
   "execution_count": 44,
   "metadata": {
    "colab": {
     "base_uri": "https://localhost:8080/",
     "height": 1000
    },
    "id": "WpOGVJbydZ52",
    "outputId": "0fd7cee9-9495-457e-e5ea-ec0af66ba884"
   },
   "outputs": [
    {
     "data": {
      "image/png": "[encoded data removed]",
      "text/plain": [
       "<Figure size 2160x2160 with 2 Axes>"
      ]
     },
     "metadata": {
      "needs_background": "light"
     },
     "output_type": "display_data"
    }
   ],
   "source": [
    "# Drawing a heatmap\n",
    "plt.figure(figsize=(30, 30));\n",
    "sns.heatmap(df.corr(), square=True, annot = True)\n",
    "plt.title('Correlations Between Features');"
   ]
  },
  {
   "cell_type": "markdown",
   "metadata": {
    "id": "FcWGT7xjfnXT"
   },
   "source": [
    "There is high correlation between bill_am1 and bill_amt2, and between bill_amt5 and bill_amt6, so one of them will be dropped."
   ]
  },
  {
   "cell_type": "code",
   "execution_count": 45,
   "metadata": {
    "id": "kdQRiRisfr-K"
   },
   "outputs": [],
   "source": [
    "# Removing columns with high correlations\n",
    "# Removing one column from each feature that was hot encoded\n",
    "df.drop(['bill_amt2', 'bill_amt5', 'female', 'married', 'other', 'over_60'], axis=1, inplace=True)"
   ]
  },
  {
   "cell_type": "code",
   "execution_count": 46,
   "metadata": {
    "colab": {
     "base_uri": "https://localhost:8080/"
    },
    "id": "qrI5QfCMdZ52",
    "outputId": "0d1c64e8-5b75-4b0e-e023-ca2b83640e95"
   },
   "outputs": [
    {
     "name": "stdout",
     "output_type": "stream",
     "text": [
      "<class 'pandas.core.frame.DataFrame'>\n",
      "Int64Index: 30000 entries, 0 to 29999\n",
      "Data columns (total 24 columns):\n",
      "limit_bal                     30000 non-null float64\n",
      "pay_0                         30000 non-null float64\n",
      "pay_2                         30000 non-null float64\n",
      "pay_3                         30000 non-null float64\n",
      "pay_4                         30000 non-null float64\n",
      "pay_5                         30000 non-null float64\n",
      "pay_6                         30000 non-null float64\n",
      "bill_amt1                     30000 non-null float64\n",
      "bill_amt3                     30000 non-null float64\n",
      "bill_amt4                     30000 non-null float64\n",
      "bill_amt6                     30000 non-null float64\n",
      "pay_amt1                      30000 non-null float64\n",
      "pay_amt2                      30000 non-null float64\n",
      "pay_amt3                      30000 non-null float64\n",
      "pay_amt4                      30000 non-null float64\n",
      "pay_amt5                      30000 non-null float64\n",
      "pay_amt6                      30000 non-null float64\n",
      "male                          30000 non-null int64\n",
      "graduate_school               30000 non-null int64\n",
      "high_school                   30000 non-null int64\n",
      "university                    30000 non-null int64\n",
      "single                        30000 non-null int64\n",
      "under_60                      30000 non-null int64\n",
      "default_payment_next_month    30000 non-null int64\n",
      "dtypes: float64(17), int64(7)\n",
      "memory usage: 5.7 MB\n"
     ]
    }
   ],
   "source": [
    "df.info()"
   ]
  },
  {
   "cell_type": "code",
   "execution_count": 47,
   "metadata": {
    "colab": {
     "base_uri": "https://localhost:8080/",
     "height": 1000
    },
    "id": "viRqYSiPdZ52",
    "outputId": "c6cf34c2-25f1-40ad-b9f5-dcbd69cea8e8"
   },
   "outputs": [
    {
     "data": {
      "image/png": "[encoded data removed]",
      "text/plain": [
       "<Figure size 2160x2160 with 2 Axes>"
      ]
     },
     "metadata": {
      "needs_background": "light"
     },
     "output_type": "display_data"
    }
   ],
   "source": [
    "plt.figure(figsize=(30, 30));\n",
    "sns.heatmap(df.corr(), square=True, annot = True)\n",
    "plt.title('Correlations Between Features');"
   ]
  },
  {
   "cell_type": "markdown",
   "metadata": {
    "id": "bWQkhTZBlNKF"
   },
   "source": [
    "### Model Training"
   ]
  },
  {
   "cell_type": "markdown",
   "metadata": {
    "id": "WZsVjRGw2cgI"
   },
   "source": [
    "In this section we will create the mode and train it. We will use randomforest "
   ]
  },
  {
   "cell_type": "code",
   "execution_count": 48,
   "metadata": {},
   "outputs": [],
   "source": [
    "# conda update -n base -c defaults conda\n",
    "# conda update -c conda-forge scikit-learn\n",
    "# pip install xgboost"
   ]
  },
  {
   "cell_type": "code",
   "execution_count": 49,
   "metadata": {
    "id": "ccSbj6ZElEUy"
   },
   "outputs": [],
   "source": [
    "# Importing necessary packages\n",
    "from sklearn.model_selection import train_test_split\n",
    "from sklearn.ensemble import RandomForestClassifier\n",
    "from sklearn.metrics import confusion_matrix, plot_confusion_matrix, accuracy_score, precision_score, recall_score\n",
    "from sklearn.model_selection import GridSearchCV\n",
    "import xgboost as xgb"
   ]
  },
  {
   "cell_type": "code",
   "execution_count": 50,
   "metadata": {
    "id": "3ZjS8eU3mYfw"
   },
   "outputs": [],
   "source": [
    "# Creating train, validation, and test sets\n",
    "x = df.drop('default_payment_next_month', axis=1)\n",
    "y = df.default_payment_next_month\n",
    "\n",
    "x_train, x_test, y_train, y_test = train_test_split(x, y, test_size=0.3)\n",
    "x_validation, x_test, y_validation, y_test = train_test_split(x_test, y_test, test_size=0.5)"
   ]
  },
  {
   "cell_type": "markdown",
   "metadata": {},
   "source": [
    "We will use RandomForestClassifier model."
   ]
  },
  {
   "cell_type": "code",
   "execution_count": 51,
   "metadata": {
    "colab": {
     "base_uri": "https://localhost:8080/"
    },
    "id": "htunQl2_nfYI",
    "outputId": "88769dec-71f0-46f7-f989-4cc4325a08c2"
   },
   "outputs": [
    {
     "data": {
      "text/plain": [
       "RandomForestClassifier(n_jobs=2)"
      ]
     },
     "execution_count": 51,
     "metadata": {},
     "output_type": "execute_result"
    }
   ],
   "source": [
    "# Creating and training the model\n",
    "model = RandomForestClassifier(n_jobs=2)\n",
    "model.fit(x_train, y_train)"
   ]
  },
  {
   "cell_type": "code",
   "execution_count": 52,
   "metadata": {
    "id": "h52ncRzD4aa4"
   },
   "outputs": [],
   "source": [
    "y_val_pred = model.predict(x_validation)"
   ]
  },
  {
   "cell_type": "code",
   "execution_count": 53,
   "metadata": {
    "colab": {
     "base_uri": "https://localhost:8080/"
    },
    "id": "svRrNUqw6HDm",
    "outputId": "db1681c4-1cf1-46d2-9de8-d460c7473cd8"
   },
   "outputs": [
    {
     "data": {
      "text/plain": [
       "0.9960952380952381"
      ]
     },
     "execution_count": 53,
     "metadata": {},
     "output_type": "execute_result"
    }
   ],
   "source": [
    "model.score(x_train, y_train)"
   ]
  },
  {
   "cell_type": "code",
   "execution_count": 54,
   "metadata": {
    "colab": {
     "base_uri": "https://localhost:8080/"
    },
    "id": "6N7O1KrP4zlu",
    "outputId": "add81671-3248-4451-bf89-8f98c4c53895"
   },
   "outputs": [
    {
     "data": {
      "text/plain": [
       "0.8166666666666667"
      ]
     },
     "execution_count": 54,
     "metadata": {},
     "output_type": "execute_result"
    }
   ],
   "source": [
    "model.score(x_validation, y_validation)"
   ]
  },
  {
   "cell_type": "code",
   "execution_count": 55,
   "metadata": {
    "colab": {
     "base_uri": "https://localhost:8080/",
     "height": 285
    },
    "id": "-3ljbPFE7GfL",
    "outputId": "49f93d48-79ef-4669-bd74-284e64491131"
   },
   "outputs": [
    {
     "data": {
      "image/png": "[encoded data removed]",
      "text/plain": [
       "<Figure size 432x288 with 2 Axes>"
      ]
     },
     "metadata": {
      "needs_background": "light"
     },
     "output_type": "display_data"
    }
   ],
   "source": [
    "# Confusion matrix\n",
    "plot_confusion_matrix(estimator=model, X=x_validation, y_true=y_validation, normalize='true');"
   ]
  },
  {
   "cell_type": "markdown",
   "metadata": {
    "id": "adLL9q5o5k_W"
   },
   "source": [
    "We will try to use another model."
   ]
  },
  {
   "cell_type": "markdown",
   "metadata": {},
   "source": [
    "We will use xgboost."
   ]
  },
  {
   "cell_type": "code",
   "execution_count": 56,
   "metadata": {},
   "outputs": [
    {
     "data": {
      "text/plain": [
       "XGBClassifier(base_score=0.5, booster='gbtree', colsample_bylevel=1,\n",
       "              colsample_bynode=1, colsample_bytree=1, eta=0.1,\n",
       "              eval_metric='rmse', gamma=4, gpu_id=-1, importance_type='gain',\n",
       "              interaction_constraints='', learning_rate=0.100000001,\n",
       "              max_delta_step=0, max_depth=20, min_child_weight=1, missing=nan,\n",
       "              monotone_constraints='()', n_estimators=100, n_jobs=8,\n",
       "              num_parallel_tree=1, random_state=0, reg_alpha=0, reg_lambda=1,\n",
       "              scale_pos_weight=1, subsample=1, tree_method='exact',\n",
       "              use_label_encoder=False, validate_parameters=1, verbosity=None)"
      ]
     },
     "execution_count": 56,
     "metadata": {},
     "output_type": "execute_result"
    }
   ],
   "source": [
    "# Create and train a different model\n",
    "model_2 = xgb.XGBClassifier(max_depth=20, n_estimators=100, gamma=4, objective='binary:logistic', eval_metric='rmse', eta=0.1, \n",
    "                           use_label_encoder=False)\n",
    "model_2.fit(x_train, y_train)"
   ]
  },
  {
   "cell_type": "code",
   "execution_count": 57,
   "metadata": {},
   "outputs": [
    {
     "data": {
      "text/plain": [
       "0.9044285714285715"
      ]
     },
     "execution_count": 57,
     "metadata": {},
     "output_type": "execute_result"
    }
   ],
   "source": [
    "model_2.score(x_train, y_train)"
   ]
  },
  {
   "cell_type": "code",
   "execution_count": 58,
   "metadata": {},
   "outputs": [
    {
     "data": {
      "text/plain": [
       "0.82"
      ]
     },
     "execution_count": 58,
     "metadata": {},
     "output_type": "execute_result"
    }
   ],
   "source": [
    "model_2.score(x_validation, y_validation)"
   ]
  },
  {
   "cell_type": "markdown",
   "metadata": {},
   "source": [
    "### Model Tuning"
   ]
  },
  {
   "cell_type": "markdown",
   "metadata": {},
   "source": [
    "We will try to change the model hyperparameters and see whether it has an effect on the model's accuracy, precision, or recall."
   ]
  },
  {
   "cell_type": "code",
   "execution_count": 59,
   "metadata": {},
   "outputs": [],
   "source": [
    "# Create an evaluation set\n",
    "eval_set = [(x_validation, y_validation)]"
   ]
  },
  {
   "cell_type": "code",
   "execution_count": 138,
   "metadata": {
    "scrolled": false
   },
   "outputs": [
    {
     "name": "stdout",
     "output_type": "stream",
     "text": [
      "[0]\tvalidation_0-error:0.19711\n",
      "[1]\tvalidation_0-error:0.18844\n",
      "[2]\tvalidation_0-error:0.18756\n",
      "[3]\tvalidation_0-error:0.18667\n",
      "[4]\tvalidation_0-error:0.18578\n",
      "[5]\tvalidation_0-error:0.18622\n",
      "[6]\tvalidation_0-error:0.18467\n",
      "[7]\tvalidation_0-error:0.18511\n",
      "[8]\tvalidation_0-error:0.18667\n",
      "[9]\tvalidation_0-error:0.18489\n",
      "[10]\tvalidation_0-error:0.18622\n",
      "[11]\tvalidation_0-error:0.18733\n",
      "[12]\tvalidation_0-error:0.18778\n",
      "[13]\tvalidation_0-error:0.18756\n",
      "[14]\tvalidation_0-error:0.18689\n",
      "[15]\tvalidation_0-error:0.18733\n",
      "[16]\tvalidation_0-error:0.18778\n",
      "[17]\tvalidation_0-error:0.18556\n",
      "[18]\tvalidation_0-error:0.18667\n",
      "[19]\tvalidation_0-error:0.18578\n",
      "[20]\tvalidation_0-error:0.18756\n",
      "[21]\tvalidation_0-error:0.18822\n",
      "[22]\tvalidation_0-error:0.18978\n",
      "[23]\tvalidation_0-error:0.19200\n",
      "[24]\tvalidation_0-error:0.19067\n",
      "[25]\tvalidation_0-error:0.19111\n",
      "[26]\tvalidation_0-error:0.19089\n",
      "[27]\tvalidation_0-error:0.19022\n",
      "[28]\tvalidation_0-error:0.19178\n",
      "[29]\tvalidation_0-error:0.19267\n",
      "[30]\tvalidation_0-error:0.19156\n",
      "[31]\tvalidation_0-error:0.19244\n",
      "[32]\tvalidation_0-error:0.19289\n",
      "[33]\tvalidation_0-error:0.19267\n",
      "[34]\tvalidation_0-error:0.19222\n",
      "[35]\tvalidation_0-error:0.19200\n",
      "[36]\tvalidation_0-error:0.19000\n",
      "[37]\tvalidation_0-error:0.19044\n",
      "[38]\tvalidation_0-error:0.19156\n",
      "[39]\tvalidation_0-error:0.19156\n",
      "[40]\tvalidation_0-error:0.19178\n",
      "[41]\tvalidation_0-error:0.19267\n",
      "[42]\tvalidation_0-error:0.19289\n",
      "[43]\tvalidation_0-error:0.19222\n",
      "[44]\tvalidation_0-error:0.19222\n",
      "[45]\tvalidation_0-error:0.19178\n",
      "[46]\tvalidation_0-error:0.19178\n",
      "[47]\tvalidation_0-error:0.19267\n",
      "[48]\tvalidation_0-error:0.19333\n",
      "[49]\tvalidation_0-error:0.19244\n"
     ]
    },
    {
     "data": {
      "text/plain": [
       "XGBClassifier(base_score=0.5, booster='gbtree', colsample_bylevel=1,\n",
       "              colsample_bynode=1, colsample_bytree=0.9, eta=0.35,\n",
       "              eval_metric='error', gamma=2, gpu_id=-1, importance_type='gain',\n",
       "              interaction_constraints='', learning_rate=0.349999994,\n",
       "              max_delta_step=0, max_depth=15, min_child_weight=4, missing=nan,\n",
       "              monotone_constraints='()', n_estimators=50, n_jobs=4,\n",
       "              num_parallel_tree=1, random_state=0, reg_alpha=0, reg_lambda=3,\n",
       "              scale_pos_weight=1, subsample=0.9, tree_method='exact',\n",
       "              use_label_encoder=False, validate_parameters=1, verbosity=None)"
      ]
     },
     "execution_count": 138,
     "metadata": {},
     "output_type": "execute_result"
    }
   ],
   "source": [
    "# Tune the model's hyperparamteres and train again\n",
    "model_2 = xgb.XGBClassifier(max_depth=15, n_estimators=50, gamma=2, objective='binary:logistic', eval_metric='error', \n",
    "                            eta=0.35, n_jobs=4, min_child_weight=4, subsample=0.9, colsample_bytree=0.9, \n",
    "                            scale_pos_weight=1, reg_lambda=3, use_label_encoder=False)\n",
    "model_2.fit(x_train, y_train, eval_set=eval_set, eval_metric='error', verbose=True)"
   ]
  },
  {
   "cell_type": "code",
   "execution_count": 139,
   "metadata": {},
   "outputs": [
    {
     "data": {
      "text/plain": [
       "0.9292857142857143"
      ]
     },
     "execution_count": 139,
     "metadata": {},
     "output_type": "execute_result"
    }
   ],
   "source": [
    "model_2.score(x_train, y_train)"
   ]
  },
  {
   "cell_type": "code",
   "execution_count": 140,
   "metadata": {},
   "outputs": [
    {
     "data": {
      "text/plain": [
       "0.8006666666666666"
      ]
     },
     "execution_count": 140,
     "metadata": {},
     "output_type": "execute_result"
    }
   ],
   "source": [
    "model_2.score(x_test, y_test)"
   ]
  },
  {
   "cell_type": "code",
   "execution_count": 141,
   "metadata": {},
   "outputs": [
    {
     "data": {
      "image/png": "[encoded data removed]",
      "text/plain": [
       "<Figure size 432x288 with 2 Axes>"
      ]
     },
     "metadata": {
      "needs_background": "light"
     },
     "output_type": "display_data"
    }
   ],
   "source": [
    "# Confusion matrix\n",
    "plot_confusion_matrix(estimator=model_2, X=x_test, y_true=y_test, normalize='true');"
   ]
  },
  {
   "cell_type": "code",
   "execution_count": 142,
   "metadata": {},
   "outputs": [],
   "source": [
    "y_pred_test = model_2.predict(x_test)"
   ]
  },
  {
   "cell_type": "code",
   "execution_count": 143,
   "metadata": {},
   "outputs": [
    {
     "name": "stdout",
     "output_type": "stream",
     "text": [
      "Model accuracy: 0.8006666666666666\n",
      "Model precision: 0.5895765472312704\n",
      "Model recall: 0.35948361469712015\n"
     ]
    }
   ],
   "source": [
    "acc = accuracy_score(y_test, y_pred_test)\n",
    "pre = precision_score(y_test, y_pred_test)\n",
    "rec = recall_score(y_test, y_pred_test)\n",
    "print('Model accuracy: {}'.format(acc))\n",
    "print('Model precision: {}'.format(pre))\n",
    "print('Model recall: {}'.format(rec))"
   ]
  },
  {
   "cell_type": "markdown",
   "metadata": {},
   "source": [
    "As we can see from the previouse cell and from the confusion matrix, the model has 79 ~ 80 % accuracy, 53% precision, and 46% recall."
   ]
  },
  {
   "cell_type": "markdown",
   "metadata": {},
   "source": [
    "This is indicates that the model is biased because the dataset is also biased."
   ]
  },
  {
   "cell_type": "code",
   "execution_count": null,
   "metadata": {},
   "outputs": [],
   "source": []
  }
 ],
 "metadata": {
  "colab": {
   "collapsed_sections": [],
   "name": "use_case_1.ipynb",
   "provenance": [],
   "toc_visible": true
  },
  "kernelspec": {
   "display_name": "Python 3",
   "language": "python",
   "name": "python3"
  },
  "language_info": {
   "codemirror_mode": {
    "name": "ipython",
    "version": 3
   },
   "file_extension": ".py",
   "mimetype": "text/x-python",
   "name": "python",
   "nbconvert_exporter": "python",
   "pygments_lexer": "ipython3",
   "version": "3.7.4"
  }
 },
 "nbformat": 4,
 "nbformat_minor": 1
}
